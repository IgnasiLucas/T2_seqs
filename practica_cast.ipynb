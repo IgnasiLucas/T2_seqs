{
 "cells": [
  {
   "cell_type": "markdown",
   "metadata": {},
   "source": [
    "# Tema 2. Análisis de secuencias\n",
    "\n",
    "## Análisis de calidad de secuencias cortas\n",
    "\n",
    "Las secuencias cortas que usaremos en esta práctica provienen de un experimento de secuenciación de un aisalado de coronavirus. Se encuentran en los archivos `data/ERR4423464_1.fastq` y `data/ERR4423464_2.fastq`, que son archivos de texto con formato **fastq**. Hay dos porque se trata de lecturas emparejadas (*paired end*): cada fragmento original de DNA ha sido secuenciado primero desde un extremo y después desde el opuesto. Las dos lecturas pueden llegar a solaparse, si el fragmento original no era demasiado largo. Primero, échale un vistazo al archivo. Deberías poder observar algo así:\n",
    "\n",
    "    @ERR4423464.1 M00289:305:000000000-J7B3T:1:1101:18085:1894 length=109\n",
    "    CTGCTACACGCTGCGAAGCTCCCAATTTGTAATAAGAAAGCGTTCGTGATGTAGCAACAGTGATTTCTTTAGGC...\n",
    "    +ERR4423464.1 M00289:305:000000000-J7B3T:1:1101:18085:1894 length=109\n",
    "    BC@CCDE9F-@C7C+++6@CEFF8,CFFCFA9F9,,,,,,C:FFFCF@,C9F99C,6C8<C9,EFFFFEE9,,9...\n",
    "\n",
    "\n",
    "Puedes aprender más sobre el formato **fastq** [aquí](https://en.wikipedia.org/wiki/FASTQ_format). ¿Puedes identificar las diferentes partes del formato? ¿Para qué sirve la cuarta línea de cada registro?\n",
    "\n",
    "A continuación utilizaremos el paquete *ShortReads* de R para comprobar la calidad y características de las secuencias. Este paquete ha sido creado por Martin Morgan, Michael Lawrence, Simon Anders, y distribuido con licencia *Artistic-2.0* en [Bioconductor](http://www.bioconductor.org/packages/release/bioc/html/ShortRead.html).\n",
    "\n",
    "Recuerda que para ejecutar el código mostrado a continuación (o aquel que tú escribas) debes seleccionar el bloque de código y pinchar en el botón de *Run*, en el menú superior. El código está distribuido en diferentes bloques para facilitar la comprensión de cada paso."
   ]
  },
  {
   "cell_type": "code",
   "execution_count": null,
   "metadata": {},
   "outputs": [],
   "source": [
    "# Para poder usar funciones de análisis de secuencias cortas\n",
    "# necesitamos cargar algun paquete específico, como \"ShortReads\":\n",
    "suppressMessages(library('ShortRead', logical.return = TRUE))\n",
    "\n",
    "# library('ShortRead')  # haría lo mismo, pero con un largo mensaje."
   ]
  },
  {
   "cell_type": "code",
   "execution_count": null,
   "metadata": {},
   "outputs": [],
   "source": [
    "# La funicón qa() aplica un análisis estándard a los archivos indicados,\n",
    "# en este caso, los únicos dos archivos con extensión \"fastq\" en la carpeta\n",
    "# \"data\":\n",
    "\n",
    "ResumenCalidad <- qa('data', type = 'fastq', pattern = '*.fastq')"
   ]
  },
  {
   "cell_type": "code",
   "execution_count": null,
   "metadata": {},
   "outputs": [],
   "source": [
    "# Podemos ver el contenido del objeto \"ResumenCalidad\" así:\n",
    "\n",
    "ResumenCalidad"
   ]
  },
  {
   "cell_type": "code",
   "execution_count": null,
   "metadata": {},
   "outputs": [],
   "source": [
    "# Así como acceder a sus elementos individuales:\n",
    "\n",
    "ResumenCalidad[['readCounts']]\n",
    "# Edita este bloque para mostrar otros elementos del \"ResumenCalidad\",\n",
    "# como por ejemplo \"baseCalls\"."
   ]
  },
  {
   "cell_type": "code",
   "execution_count": null,
   "metadata": {},
   "outputs": [],
   "source": [
    "# Para mostrar sólo una pequeña parte de los elementos más grandes,\n",
    "# puedes usar las funciones head() y tail():\n",
    "head(ResumenCalidad[['baseQuality']])"
   ]
  },
  {
   "cell_type": "code",
   "execution_count": null,
   "metadata": {},
   "outputs": [],
   "source": [
    "# Por último, podemos generar un archivo html con toda la información\n",
    "# generada por la función qa().\n",
    "report(ResumenCalidad, dest = 'ResumenCalidad.html')"
   ]
  },
  {
   "cell_type": "markdown",
   "metadata": {},
   "source": [
    "Después de experimentar con los resultados de la función *qa()* del paquete *ShortRead*, habrás observado que en algunos aspectos no se ajusta a nuestros datos. Por ejemplo, las secuencias en un archivo **fastq** no están alineadas, y por tanto *qa()* no ha podido informar sobre la calidad de los alineamientos. Además, un análisis estándard puede no responder a todas nuestras necesidades.\n",
    "\n",
    "Como las longitudes de las secuencias no parecen estar registradas en el informe de *qa()*, es necesario leer de nuevo los datos originales. Para ello, disponemos de diferentes funciones. Normalmente, para la finalidad de comprobar la calidad de los datos, se usa solo una fracción aleatoria de las secuencias. Para eso sirve la función `FastqSampler()`. Pero en este caso particular se trata de dos archivos relativamente pequeños, y podemos usar la función `readFastq()`, que cargará en memoria la totalidad de las secuencias."
   ]
  },
  {
   "cell_type": "code",
   "execution_count": null,
   "metadata": {},
   "outputs": [],
   "source": [
    "lecturas.1 <- readFastq('data/ERR4423464_1.fastq')\n",
    "lecturas.2 <- readFastq('data/ERR4423464_2.fastq')\n",
    "\n",
    "# Para mostrar las primeras secuencias de cada muestra:\n",
    "head(sread(lecturas.1))"
   ]
  },
  {
   "cell_type": "code",
   "execution_count": null,
   "metadata": {},
   "outputs": [],
   "source": [
    "# Podemos mostrar también, sus calidades:\n",
    "head(quality(lecturas.1))"
   ]
  },
  {
   "cell_type": "code",
   "execution_count": null,
   "metadata": {},
   "outputs": [],
   "source": [
    "# Y extraer directamente sus longitudes:\n",
    "head(width(lecturas.1))"
   ]
  },
  {
   "cell_type": "code",
   "execution_count": null,
   "metadata": {},
   "outputs": [],
   "source": [
    "# Y para hacer un histograma, podemos usar la función hist():\n",
    "hist(width(lecturas.1))"
   ]
  },
  {
   "cell_type": "markdown",
   "metadata": {},
   "source": [
    "Intenta usar la función `mean()` para calcular la longitud media de las secuencias de cada archivo.\n",
    "\n",
    "El análisis de la calidad de las secuencias obtenidas de un experimento de secuenciación es un paso fundamental en el que deben eliminarse las secuencias de baja calidad, o recortarse si en algun extremo la secuenciación a producido resultados pobres.\n",
    "\n",
    "## Mapeo de lecturas cortas\n",
    "El siguiente paso es normalmente el de identificar la posición de origen, en un genoma de referencia, de todas las secuencias cortas obtenidas por secuenciación. Existen muchos programas disponibles para ello. En el entorno de R podemos utilizar una implementación de Bowtie-2, llamada *Rbowtie2*, creada por Zheng Wei y Wei Zhang y disponible en [Bioconductor](https://bioconductor.org/packages/release/bioc/html/Rbowtie2.html) bajo licencia *GPL (>= 3)*.\n",
    "\n",
    "El genoma de referencia es el del SARS-CoV-2, y se encuentra en el archivo `data/referencia.fna`. Éstas son sus primeras líneas:\n",
    "\n",
    "    >NC_045512.2 Severe acute respiratory syndrome coronavirus 2 isolate Wuhan-Hu-1, complete genome\n",
    "    ATTAAAGGTTTATACCTTCCCAGGTAACAAACCAACCAACTTTCGATCTCTTGTAGATCTGTTCTCTAAA\n",
    "    CGAACTTTAAAATCTGTGTGGCTGTCACTCGGCTGCATGCTTAGTGCACTCACGCAGTATAATTAATAAC\n",
    "    TAATTACTGTCGTTGACAGGACACGAGTAACTCGTCTATCTTCTGCAGGCTGCTTACGGTTTCGTCCGTG\n",
    "    TTGCAGCCGATCATCAGCACATCTAGGTTTCGTCCGGGTGTGACCGAAAGGTAAGATGGAGAGCCTTGTC\n",
    "    CCTGGTTTCAACGAGAAAACACACGTCCAACTCAGTTTGCCTGTTTTACAGGTTCGCGACGTGCTCGTAC\n",
    "    GTGGCTTTGGAGACTCCGTGGAGGAGGTCTTATCAGAGGCACGTCAACATCTTAAAGATGGCACTTGTGG\n",
    "    CTTAGTAGAAGTTGAAAAAGGCGTTTTGCCTCAACTTGAACAGCCCTATGTGTTCATCAAACGTTCGGAT\n",
    "\n",
    "¿Reconoces el formato? Antes de *mapear* o alinear las secuencias cortas al genoma de referencia es necesario preparar (de hecho, *indexar*) el genoma de referencia. El índice se compondrá de unos pocos archivos, con el mismo nombre base y diferentes terminaciones. Para tener los archivos ordenados, creamos una carpeta donde guardar el índice."
   ]
  },
  {
   "cell_type": "code",
   "execution_count": null,
   "metadata": {},
   "outputs": [],
   "source": [
    "suppressMessages(library(Rbowtie2))\n",
    "dir.create('indice')\n",
    "\n",
    "# Observa como podemos usar más de una línea para escribir una orden más clara:\n",
    "build_output <- bowtie2_build(references = 'data/referencia.fna',\n",
    "                              bt2Index = 'indice/SARS-Cov2',\n",
    "                              '--quiet',\n",
    "                              overwrite = TRUE)\n",
    "\n",
    "# En esta variable hemos guardado los mensajes de salida del proceso. Veamos si hay\n",
    "# algun error:\n",
    "build_output"
   ]
  },
  {
   "cell_type": "markdown",
   "metadata": {},
   "source": [
    "La construcción del índice del genoma de referencia acepta muchas opciones. Las únicas que son imprescindibles son la dirección del archivo donde está el genoma de referencia y el nombre base que queremos darles a los archivos del índice. Comprueba que el índice ha sido creado en la carpeta designada. Los archivos que lo componen no son archivos de texto.\n",
    "\n",
    "Ahora podemos mapear las secuencias cortas al genoma del coronavirus SARS-Cov-2. Si has dado un nombre diferente a la carpeta del índice, no olvides cambiarlo aquí también. También puedes elegir el nombre del archivo donde se guardarán los resultados en formato SAM."
   ]
  },
  {
   "cell_type": "code",
   "execution_count": null,
   "metadata": {},
   "outputs": [],
   "source": [
    "mapeo_output <- bowtie2(bt2Index = 'indice/SARS-Cov2',\n",
    "                        samOutput = 'ERR4423464.sam',\n",
    "                        seq1 = 'data/ERR4423464_1.fastq',\n",
    "                        seq2 = 'data/ERR4423464_2.fastq',\n",
    "                        overwrite = TRUE)\n",
    "mapeo_output"
   ]
  },
  {
   "cell_type": "markdown",
   "metadata": {},
   "source": [
    "Dedica un tiempo a leer el mensaje de salida del mapeo. ¿Te parece un resultado satisfactorio? ¿Puedes interpretar toda la información?\n",
    "\n",
    "El archivo de salida, `ERR4423464.sam`, sí es un archivo de texto en formato SAM, que puedes abrir para explorarlo. Observarás que las líneas son más largas que el espacio disponible en la pantalla, lo que dificulta reconocer la regularidad del formato. Para identificar mejor las columnas puedes usar el comando siguiente en una shell de Unix:\n",
    "\n",
    "`less -S ERR4423464.sam`\n",
    "\n",
    "Visita [este enlace](https://en.wikipedia.org/wiki/SAM_(file_format)) o bien la [publicación original](https://academic.oup.com/bioinformatics/article/25/16/2078/204688) donde se describe este formato. De todas formas, es más práctico (y ocupa menos) la versión *binaria* del formato SAM, llamada *BAM*. Vamos a crear una versión *bam* de nuestros alineamientos para usarla en el próximo paso:"
   ]
  },
  {
   "cell_type": "code",
   "execution_count": null,
   "metadata": {},
   "outputs": [],
   "source": [
    "suppressMessages(library(Rsamtools, quietly = TRUE))\n",
    "asBam('ERR4423464.sam', destination='ERR4423464', overwrite = TRUE)\n",
    "\n",
    "# Esto nos ofrece un resumen de los tipos de alineamientos encontrados:\n",
    "quickBamFlagSummary('ERR4423464.bam')"
   ]
  },
  {
   "cell_type": "markdown",
   "metadata": {},
   "source": [
    "El formato SAM contiene mucha información pero no nos permite una visión panorámica a lo largo del genoma de referencia. Para poder visualizar cómo se distribuyen las secuencias cortas a lo largo del genoma de referencia, necesitamos *amontonarlas*. La función `pileup()` permite contar cuantas veces ha sido *leída* cada posición (es decir, su **cobertura**), además de poder registrar qué nucleótidos diferentes se han encontrado en cada posición y con qué frecuencia cada uno, entre otras cosas. Nota en el código a continuación que podemos elegir la calidad mínima de una base leída para que la contemos en su cobertura"
   ]
  },
  {
   "cell_type": "code",
   "execution_count": null,
   "metadata": {},
   "outputs": [],
   "source": [
    "cobertura <- pileup('ERR4423464.bam',\n",
    "                    pileupParam = PileupParam(max_depth = 10000,\n",
    "                                              min_base_quality = 13,\n",
    "                                              min_mapq = 13,\n",
    "                                              min_nucleotide_depth = 1,\n",
    "                                              min_minor_allele_depth = 0,\n",
    "                                              distinguish_strands = FALSE,\n",
    "                                              distinguish_nucleotides = FALSE))\n",
    "head(cobertura)"
   ]
  },
  {
   "cell_type": "markdown",
   "metadata": {},
   "source": [
    "Antes de ver cómo varía la cobertura a lo largo del genoma en este experimento de secuenciación, consideremos qué cabe esperar. Hemos usado 65.135 pares de secuencias cortas, cuya longitud media estaba alrededor de 154. Aproximadamente esperaríamos unas $65.135 \\times 2 \\times 154 = 20.061.580$ bases secuenciadas. Como el genoma de coronavirus SARS-Cov-2 mide unas 30.000 bases, en principio tenemos suficientes secuencias cortas como para cubrir el genoma de referencia $20.061.580/30000=669$ veces. En la gráfica que generaremos a continuación la línea roja marcará la cobertura media obtenida (676) y la azul, la mediana."
   ]
  },
  {
   "cell_type": "code",
   "execution_count": null,
   "metadata": {},
   "outputs": [],
   "source": [
    "# Los dos primeros argumentos de la función plot() son las coordenadas\n",
    "# \n",
    "plot(cobertura$pos, cobertura$count, type = 'l',\n",
    "     xlab = 'Posición', ylab = 'Cobertura')\n",
    "abline(h = mean(cobertura$count),   col = 'red')\n",
    "abline(h = median(cobertura$count), col = 'blue')"
   ]
  },
  {
   "cell_type": "markdown",
   "metadata": {},
   "source": [
    "Si la secuenciación hubiera sido realmente aleatoria, de manera que todas las posiciones tuvieran la misma probabilidad de ser secuenciadas, la cobertura seguiría una distribución de Poisson, donde la media es igual a la varianza. En este caso la varianza (calcúlala con `var(cobertura$count)`), es mucho mayor que la media. ¿A qué se te ocurre que podría deberse el hecho de que algunas posiciones hayan sido secuenciadas tanto más que otras?\n",
    "\n",
    "## Detección de variantes\n",
    "\n",
    "El objetivo de muchos proyectos de secuenciación es detectar y analizar las posiciones (y fragmentos) variables, en los que no todos los individuos secuenciados tienen la misma información genética. Un tipo básico de variación son las mutaciones puntuales o SNPs. Diferenciar las posiciones variables de las que no lo son es un problema de clasificación que puede resultar difícil debido a que las secuencias cortas incluyen errores de secuenciación. \n",
    "\n",
    "Fuera del entorno de R, existen muchos otros programas para detectar variantes. [GATK](https://gatk.broadinstitute.org/hc/en-us), desarrollada por el Broad Institute, es una de las herramientas más populares para la detección de variantes a gran escala. Se distribuye como *software* libre, bajo licencia BSD modificada de 3 cláusulas. Otro programa interesante es [Freebayes](https://github.com/freebayes/freebayes), distribuido bajo licencia MIT.\n",
    "\n",
    "Sin entrar en los detalles del proceso, el ejemplo básico siguiente nos da una idea de los pasos a seguir en R y nos permitirá observar el formato **VCF** de los resultados. Vamos a usar los paquetes [VariantTools](https://bioconductor.org/packages/release/bioc/html/VariantTools.html) y [gmapR](https://bioconductor.org/packages/release/bioc/html/gmapR.html).\n",
    "\n",
    "El primer paso es indexar de nuevo el genoma de referencia. El paquete `gmapR` es independiente de `Rbowtie2` y no usa el mismo tipo de índice. La función `GmapGenome()` puede crear un índice a partir de un archivo **fasta**, siempre que se le indique la dirección (o *path*) de ese archivo de la forma adecuada. Así pues, antes de crear el índice, creamos la variable que indica dónde está la secuencia del genoma de referencia en formato **fasta**.\n",
    " "
   ]
  },
  {
   "cell_type": "code",
   "execution_count": null,
   "metadata": {},
   "outputs": [],
   "source": [
    "suppressMessages(library('VariantTools'))\n",
    "suppressMessages(library('gmapR'))\n",
    "\n",
    "# Creamos un objeto 'FastaFile' a partir del archivo data/referencia.fna\n",
    "referencia.fasta  <- rtracklayer::FastaFile(\n",
    "    paste(getwd(), 'data/referencia.fna', sep = '/'))"
   ]
  },
  {
   "cell_type": "code",
   "execution_count": null,
   "metadata": {},
   "outputs": [],
   "source": [
    "# Aquí se indexa el genoma de referencia.\n",
    "referencia.genoma <- GmapGenome(referencia.fasta, create = TRUE)"
   ]
  },
  {
   "cell_type": "markdown",
   "metadata": {},
   "source": [
    "Esta expresión habrá generado un error. Léelo e intenta descifrar su significado. Ante situaciones como esta, es recomendable buscar en internet el texto o las palabras clave del error. En este caso, el problema es que la máquina virtual donde se ejecutan estas órdenes no dispone de suficiente memoria RAM para generar los archivos del índice. Para solucionarlo, utilizaremos un índice ya creado y contenido en el archivo `data/gmap.tar.gz`. Antes de utilizarlo habrá que desempaquetarlo."
   ]
  },
  {
   "cell_type": "code",
   "execution_count": null,
   "metadata": {},
   "outputs": [],
   "source": [
    "untar('data/gmap.tar.gz')"
   ]
  },
  {
   "cell_type": "markdown",
   "metadata": {},
   "source": [
    "Y ahora podemos informar a la función `GmapGenome()` de la ubicación del índice que acabamos de desempaquetar. Observaràs que la forma de hacerlo es bastante enrevesada, porque al argumento `directory` se le asigna el resultado de combinar tres funciones diferentes:"
   ]
  },
  {
   "cell_type": "code",
   "execution_count": null,
   "metadata": {},
   "outputs": [],
   "source": [
    "referencia.genoma <- GmapGenome(genome = 'referencia',\n",
    "                               directory = GmapGenomeDirectory(file.path(getwd(),'gmap')))"
   ]
  },
  {
   "cell_type": "markdown",
   "metadata": {},
   "source": [
    "Ahora sí tenemos el genoma de referencia en el formato adecuado y estamos en condiciones de usarlo, junto con los alineamientos del archivo `ERR4423464.bam` para detectar variantes.\n",
    "\n",
    "La función `TallyVariantsParam()` permite ajustar varios parámetros que afectan la sensibilidad y la especificidad del proceso de detección de variantes. Puedes averiguar qué parámetros son esos leyendo la ayuda de la función: `help(TallyVariantsParam)`. Si no especificamos más que el genoma de referencia, aceptamos los valores por defecto."
   ]
  },
  {
   "cell_type": "code",
   "execution_count": null,
   "metadata": {},
   "outputs": [],
   "source": [
    "parametros <- TallyVariantsParam(referencia.genoma)"
   ]
  },
  {
   "cell_type": "markdown",
   "metadata": {},
   "source": [
    "Normalmente se detectan variantes entre un conjunto de muestras o individuos secuenciados. En este ejercicio estamos usando sólo una muestra, representada por el archivo `ERR4423464.bam`. Aquí, las *variantes* que buscamos son diferencias entre el genoma de referencia y el de la muestra secuenciada. "
   ]
  },
  {
   "cell_type": "code",
   "execution_count": null,
   "metadata": {},
   "outputs": [],
   "source": [
    "preliminar <- callVariants('ERR4423464.bam', parametros)\n",
    "summary(preliminar)"
   ]
  },
  {
   "cell_type": "markdown",
   "metadata": {},
   "source": [
    "Las posiciones variables estan indicadas como *rangos*, pues podrían abarcar más de un nucleótido. Siempre, el resultado de detección de variantes es susceptible de contener falsos positivos. El paso siguiente consiste en filtrar los resultados para quedarnos solo con las variantes más probablemente verdaderas."
   ]
  },
  {
   "cell_type": "code",
   "execution_count": null,
   "metadata": {},
   "outputs": [],
   "source": [
    "filtradas  <- postFilterVariants(preliminar)\n",
    "summary(filtradas)"
   ]
  },
  {
   "cell_type": "markdown",
   "metadata": {},
   "source": [
    "¿Cuántas posiciones variables hemos detectado? ¿Consigues extraer e interpretar la información contenida en el objeto `filtradas`? Existen muchas funciones para trabajar con esta clase de objeto, pero aprenderlas no es nuestro objetivo ahora. Tal vez sea más fácil y práctico guardar la información sobre las variantes filtradas en un archivo de texto con formato VCF.\n",
    "\n",
    "El formato VCF necesita los nombres de las muestras (en nuestro caso solo una), que normalmente coinciden con los nombres de los archivos `.bam`. Como esta información no está contenida todavía en el objeto `filtradas`, la introducimos ahora:"
   ]
  },
  {
   "cell_type": "code",
   "execution_count": null,
   "metadata": {},
   "outputs": [],
   "source": [
    "sampleNames(filtradas) <- 'ERR4423464'"
   ]
  },
  {
   "cell_type": "markdown",
   "metadata": {},
   "source": [
    "Y finalmente creamos el archivo **VCF**:"
   ]
  },
  {
   "cell_type": "code",
   "execution_count": null,
   "metadata": {},
   "outputs": [],
   "source": [
    "writeVcf(filtradas, filename = 'ERR4423464.vcf')"
   ]
  },
  {
   "cell_type": "markdown",
   "metadata": {},
   "source": [
    "El formato **VCF** está descrito en [este documento](https://www.google.com/url?sa=t&rct=j&q=&esrc=s&source=web&cd=&ved=2ahUKEwicz7ih05zuAhUHExoKHQB-DY8QFjAIegQIARAC&url=https%3A%2F%2Fsamtools.github.io%2Fhts-specs%2FVCFv4.2.pdf&usg=AOvVaw3UrlHdXnBVzm0df9OE90Rm). Al abrir el archivo `ERR4423464.vcf` con un editor de texto, normalmente las líneas más largas que la pantalla acaban ocupando más de una línea, lo que dificulta la identificación del formato. Para poder observar mejor el formato del archivo es recomendable abrirlo, por ejemplo, desde una terminal con el comando:\n",
    "\n",
    "`less -S ERR4423464.vcf`"
   ]
  }
 ],
 "metadata": {
  "kernelspec": {
   "display_name": "R",
   "language": "R",
   "name": "ir"
  },
  "language_info": {
   "codemirror_mode": "r",
   "file_extension": ".r",
   "mimetype": "text/x-r-source",
   "name": "R",
   "pygments_lexer": "r",
   "version": "4.1.3"
  }
 },
 "nbformat": 4,
 "nbformat_minor": 4
}
