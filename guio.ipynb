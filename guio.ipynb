{
 "cells": [
  {
   "cell_type": "markdown",
   "metadata": {},
   "source": [
    "# Tema 2. Análisis de secuencias\n",
    "\n",
    "## Análisis de calidad de secuencias cortas\n",
    "\n",
    "El objetivo del primer ejercicio es mapear un conjunto de secuencias cortas a un genoma de referencia.\n",
    "\n",
    "Las secuencias cortas provienen de un experimento de secuenciación de un aisalado de coronavirus. Se encuentran en los archivos `data/ERR4423464_1.fastq` y `data/ERR4423464_2.fastq`, que son archivos de texto con formato **fastq**. Hay dos porque se trata de lecturas emparejadas (*paired end*): cada fragmento original de DNA ha sido secuenciado primero desde un extremo y después desde el opuesto. Las dos lecturas pueden llegar a solaparse, si el fragmento original no era demasiado largo. Primero, échale un vistazo al archivo. Deberías poder observar algo así:\n",
    "\n",
    "    @ERR4423464.1 M00289:305:000000000-J7B3T:1:1101:18085:1894 length=109\n",
    "    CTGCTACACGCTGCGAAGCTCCCAATTTGTAATAAGAAAGCGTTCGTGATGTAGCAACAGTGATTTCTTTAGGC...\n",
    "    +ERR4423464.1 M00289:305:000000000-J7B3T:1:1101:18085:1894 length=109\n",
    "    BC@CCDE9F-@C7C+++6@CEFF8,CFFCFA9F9,,,,,,C:FFFCF@,C9F99C,6C8<C9,EFFFFEE9,,9...\n",
    "\n",
    "\n",
    "Puedes aprender más sobre el formato **fastq** en [aquí](https://en.wikipedia.org/wiki/FASTQ_format). ¿Puedes identificar las diferentes partes del formato? ¿Para qué sirve la cuarta línea de cada registro?\n",
    "\n",
    "A continuación utilizaremos el paquete *ShortReads* de R para comprovar la calidad y características de las secuencias. Este paquete ha sido creado por Martin Morgan, Michael Lawrence, Simon Anders, y distribuido con licencia *Artistic-2.0* en [Bioconductor](http://www.bioconductor.org/packages/release/bioc/html/ShortRead.html)."
   ]
  },
  {
   "cell_type": "code",
   "execution_count": 6,
   "metadata": {},
   "outputs": [],
   "source": [
    "# Para poder usar funciones de análisis de secuencias cortas\n",
    "# necesitamos cargar algun paquete específico, como \"ShortReads\":\n",
    "\n",
    "library(ShortRead, quietly = FALSE)    # la opción \"quietly=TRUE\" evita mensajes innecesarios.\n",
    "#library(Biostrings, quietly = FALSE)"
   ]
  },
  {
   "cell_type": "code",
   "execution_count": 7,
   "metadata": {},
   "outputs": [],
   "source": [
    "# La funicón qa() aplica un análisis estándard a los archivos indicados,\n",
    "# en este caso, los únicos dos archivos con extensión \"fastq\" en la carpeta\n",
    "# \"data\":\n",
    "\n",
    "ResumenCalidad <- qa('data', type = 'fastq', pattern = '*.fastq')"
   ]
  },
  {
   "cell_type": "code",
   "execution_count": 3,
   "metadata": {},
   "outputs": [],
   "source": [
    "# Podemos ver el contenido del objeto \"ResumenCalidad\" así:\n",
    "\n",
    "ResumenCalidad"
   ]
  },
  {
   "cell_type": "code",
   "execution_count": 4,
   "metadata": {},
   "outputs": [],
   "source": [
    "# Así como acceder a sus elementos individuales:\n",
    "\n",
    "ResumenCalidad[['readCounts']]"
   ]
  },
  {
   "cell_type": "code",
   "execution_count": 5,
   "metadata": {},
   "outputs": [],
   "source": [
    "# Edita este bloque para mostrar otros elementos del \"ResumenCalidad\",\n",
    "# como por ejemplo \"baseCalls\". Para mostrar sólo una pequeña parte\n",
    "# de los elementos más grandes, puedes usar las funciones head() y tail():\n",
    "head(ResumenCalidad[['baseQuality']])"
   ]
  },
  {
   "cell_type": "code",
   "execution_count": 6,
   "metadata": {},
   "outputs": [],
   "source": [
    "# Por último, podemos generar un archivo html con toda la información\n",
    "# generada por la función qa().\n",
    "report(ResumenCalidad, dest = 'ResumenCalidad.html')"
   ]
  },
  {
   "cell_type": "markdown",
   "metadata": {},
   "source": [
    "Después de experimentar con los resultados de la función *qa()* del paquete *ShortRead*, habrás observado que en algunos aspectos no se ajusta a nuestros datos. Por ejemplo, las secuencias en un archivo **fastq** no están alineadas, y por tanto *qa()* no ha podido informar sobre la calidad de los alineamientos. Además, un análisis estándard puede no responder a todas nuestras necesidades. Ejecutando el código a continuación generarás un histograma de las longitudes de las secuencias en los dos archivos **fastq**.\n",
    "\n",
    "Como las longitudes de las secuencias no parecen estar registradas en el informe de *qa()*, es necesario leer de nuevo los datos originales. Para ello, disponemos de diferentes funciones. Como en este caso particular se trata de dos archivos relativamente pequeños, podemos usar la función *readFastq()*, que cargará en memoria la totalidad de las secuencias. Pero es más habitual, para la finalidad de comprobar la calidad de los datos, usar solo una fracción aleatoria de las secuencias. Así pues, usaremos la función *FastqSampler()* para extraer 100000 secuencias de cada archivo."
   ]
  },
  {
   "cell_type": "code",
   "execution_count": 8,
   "metadata": {},
   "outputs": [],
   "source": [
    "muestra1 <- yield(FastqSampler('data/ERR4423464_1.fastq', n = 100000))\n",
    "muestra2 <- yield(FastqSampler('data/ERR4423464_2.fastq', n = 100000))\n",
    "\n",
    "# Para mostrar las primeras secuencias de cada muestra:\n",
    "head(sread(muestra1))"
   ]
  },
  {
   "cell_type": "code",
   "execution_count": 9,
   "metadata": {},
   "outputs": [],
   "source": [
    "# Podemos mostrar también, sus calidades:\n",
    "head(quality(muestra1))"
   ]
  },
  {
   "cell_type": "code",
   "execution_count": 10,
   "metadata": {},
   "outputs": [],
   "source": [
    "# Y extraer directamente sus longitudes:\n",
    "head(width(muestra1))"
   ]
  },
  {
   "cell_type": "code",
   "execution_count": 11,
   "metadata": {},
   "outputs": [],
   "source": [
    "# Y para hacer un histograma, podemos usar la función hist():\n",
    "hist(width(muestra1))"
   ]
  },
  {
   "cell_type": "markdown",
   "metadata": {},
   "source": [
    "El análisis de la calidad de las secuencias obtenidas de un experimento de secuenciación es un paso fundamental en el que deben eliminarse las secuencias de baja calidad, o recortarse si en algun extremo la secuenciación a producido resultados pobres.\n",
    "\n",
    "## Mapeo de lecturas cortas\n",
    "El siguiente paso es normalmente el de identificar la posición de origen, en un genoma de referencia, de todas las secuencias cortas obtenidas por secuenciación. Existen muchos programas disponibles para ello. En el entorno de R podemos utilizar una implementación de Bowtie-2, llamada *Rbowtie2*, creada por Zheng Wei y Wei Zhang y disponible en [Bioconductor](https://bioconductor.org/packages/release/bioc/html/Rbowtie2.html) bajo licencia *GPL (>= 3)*.\n",
    "\n",
    "El genoma de referencia es el del SARS-CoV-2, y se encuentra en el archivo `data/referencia.fna`. Éstas son sus primeras líneas:\n",
    "\n",
    "    >NC_045512.2 Severe acute respiratory syndrome coronavirus 2 isolate Wuhan-Hu-1, complete genome\n",
    "    ATTAAAGGTTTATACCTTCCCAGGTAACAAACCAACCAACTTTCGATCTCTTGTAGATCTGTTCTCTAAA\n",
    "    CGAACTTTAAAATCTGTGTGGCTGTCACTCGGCTGCATGCTTAGTGCACTCACGCAGTATAATTAATAAC\n",
    "    TAATTACTGTCGTTGACAGGACACGAGTAACTCGTCTATCTTCTGCAGGCTGCTTACGGTTTCGTCCGTG\n",
    "    TTGCAGCCGATCATCAGCACATCTAGGTTTCGTCCGGGTGTGACCGAAAGGTAAGATGGAGAGCCTTGTC\n",
    "    CCTGGTTTCAACGAGAAAACACACGTCCAACTCAGTTTGCCTGTTTTACAGGTTCGCGACGTGCTCGTAC\n",
    "    GTGGCTTTGGAGACTCCGTGGAGGAGGTCTTATCAGAGGCACGTCAACATCTTAAAGATGGCACTTGTGG\n",
    "    CTTAGTAGAAGTTGAAAAAGGCGTTTTGCCTCAACTTGAACAGCCCTATGTGTTCATCAAACGTTCGGAT\n",
    "\n",
    "¿Reconoces el formato? Antes de *mapear* o alinear las secuencias cortas al genoma de referencia es necesario preparar (de hecho, *indexar*) el genoma de referencia."
   ]
  },
  {
   "cell_type": "code",
   "execution_count": 4,
   "metadata": {},
   "outputs": [
    {
     "name": "stderr",
     "output_type": "stream",
     "text": [
      "arguments 'show.output.on.console', 'minimized' and 'invisible' are for Windows only\n",
      "\n"
     ]
    },
    {
     "data": {
      "text/html": [],
      "text/latex": [],
      "text/markdown": [],
      "text/plain": [
       "character(0)"
      ]
     },
     "metadata": {},
     "output_type": "display_data"
    }
   ],
   "source": [
    "library(Rbowtie2)\n",
    "\n",
    "# El índice se compondrá de unos cuantos archivos, con el mismo nombre base,\n",
    "# pero diferentes extensiones. Vamos a crear una carpeta para guardarlo allí.\n",
    "# Puedes darle el nombre que quieras.\n",
    "dir.create('indice')\n",
    "\n",
    "# Observa como podemos usar más de una línea para escribir una orden más clara:\n",
    "build_output <- bowtie2_build(references = 'data/referencia.fna',\n",
    "                              bt2Index = 'indice/SARS-Cov2',\n",
    "                              '--quiet',\n",
    "                              overwrite = TRUE)\n",
    "# La construcción del índice del genoma de referencia acepta muchas opciones. Las únicas\n",
    "# que son imprescindibles son la dirección del archivo donde está el genoma de referencia\n",
    "# y el nombre base que queremos darles a los archivos del índice.\n",
    "\n",
    "# En esta variable hemos guardado los mensajes de salida del proceso. Veamos si hay\n",
    "# algun error:\n",
    "build_output"
   ]
  },
  {
   "cell_type": "markdown",
   "metadata": {},
   "source": [
    "Comprueba que el índice ha sido creado en la carpeta designada. Los archivos que lo componen no son archivos de texto. Ahora podemos mapear las secuencias cortas al genoma del coronavirus SARS-Cov-2. Si has dado un nombre diferente a la carpeta del índice, no olvides cambiarlo aquí también. También puedes elegir el nombre del archivo donde se guardaran los resultados en formato SAM."
   ]
  },
  {
   "cell_type": "code",
   "execution_count": 5,
   "metadata": {},
   "outputs": [
    {
     "name": "stderr",
     "output_type": "stream",
     "text": [
      "arguments 'show.output.on.console', 'minimized' and 'invisible' are for Windows only\n",
      "\n"
     ]
    },
    {
     "data": {
      "text/html": [
       "<style>\n",
       ".list-inline {list-style: none; margin:0; padding: 0}\n",
       ".list-inline>li {display: inline-block}\n",
       ".list-inline>li:not(:last-child)::after {content: \"\\00b7\"; padding: 0 .5ex}\n",
       "</style>\n",
       "<ol class=list-inline><li>'2500 reads; of these:'</li><li><span style=white-space:pre-wrap>'  2500 (100.00%) were paired; of these:'</span></li><li><span style=white-space:pre-wrap>'    112 (4.48%) aligned concordantly 0 times'</span></li><li><span style=white-space:pre-wrap>'    2388 (95.52%) aligned concordantly exactly 1 time'</span></li><li><span style=white-space:pre-wrap>'    0 (0.00%) aligned concordantly &gt;1 times'</span></li><li><span style=white-space:pre-wrap>'    ----'</span></li><li><span style=white-space:pre-wrap>'    112 pairs aligned concordantly 0 times; of these:'</span></li><li><span style=white-space:pre-wrap>'      31 (27.68%) aligned discordantly 1 time'</span></li><li><span style=white-space:pre-wrap>'    ----'</span></li><li><span style=white-space:pre-wrap>'    81 pairs aligned 0 times concordantly or discordantly; of these:'</span></li><li><span style=white-space:pre-wrap>'      162 mates make up the pairs; of these:'</span></li><li><span style=white-space:pre-wrap>'        152 (93.83%) aligned 0 times'</span></li><li><span style=white-space:pre-wrap>'        10 (6.17%) aligned exactly 1 time'</span></li><li><span style=white-space:pre-wrap>'        0 (0.00%) aligned &gt;1 times'</span></li><li>'96.96% overall alignment rate'</li></ol>\n"
      ],
      "text/latex": [
       "\\begin{enumerate*}\n",
       "\\item '2500 reads; of these:'\n",
       "\\item '  2500 (100.00\\%) were paired; of these:'\n",
       "\\item '    112 (4.48\\%) aligned concordantly 0 times'\n",
       "\\item '    2388 (95.52\\%) aligned concordantly exactly 1 time'\n",
       "\\item '    0 (0.00\\%) aligned concordantly >1 times'\n",
       "\\item '    ----'\n",
       "\\item '    112 pairs aligned concordantly 0 times; of these:'\n",
       "\\item '      31 (27.68\\%) aligned discordantly 1 time'\n",
       "\\item '    ----'\n",
       "\\item '    81 pairs aligned 0 times concordantly or discordantly; of these:'\n",
       "\\item '      162 mates make up the pairs; of these:'\n",
       "\\item '        152 (93.83\\%) aligned 0 times'\n",
       "\\item '        10 (6.17\\%) aligned exactly 1 time'\n",
       "\\item '        0 (0.00\\%) aligned >1 times'\n",
       "\\item '96.96\\% overall alignment rate'\n",
       "\\end{enumerate*}\n"
      ],
      "text/markdown": [
       "1. '2500 reads; of these:'\n",
       "2. <span style=white-space:pre-wrap>'  2500 (100.00%) were paired; of these:'</span>\n",
       "3. <span style=white-space:pre-wrap>'    112 (4.48%) aligned concordantly 0 times'</span>\n",
       "4. <span style=white-space:pre-wrap>'    2388 (95.52%) aligned concordantly exactly 1 time'</span>\n",
       "5. <span style=white-space:pre-wrap>'    0 (0.00%) aligned concordantly &gt;1 times'</span>\n",
       "6. <span style=white-space:pre-wrap>'    ----'</span>\n",
       "7. <span style=white-space:pre-wrap>'    112 pairs aligned concordantly 0 times; of these:'</span>\n",
       "8. <span style=white-space:pre-wrap>'      31 (27.68%) aligned discordantly 1 time'</span>\n",
       "9. <span style=white-space:pre-wrap>'    ----'</span>\n",
       "10. <span style=white-space:pre-wrap>'    81 pairs aligned 0 times concordantly or discordantly; of these:'</span>\n",
       "11. <span style=white-space:pre-wrap>'      162 mates make up the pairs; of these:'</span>\n",
       "12. <span style=white-space:pre-wrap>'        152 (93.83%) aligned 0 times'</span>\n",
       "13. <span style=white-space:pre-wrap>'        10 (6.17%) aligned exactly 1 time'</span>\n",
       "14. <span style=white-space:pre-wrap>'        0 (0.00%) aligned &gt;1 times'</span>\n",
       "15. '96.96% overall alignment rate'\n",
       "\n",
       "\n"
      ],
      "text/plain": [
       " [1] \"2500 reads; of these:\"                                               \n",
       " [2] \"  2500 (100.00%) were paired; of these:\"                             \n",
       " [3] \"    112 (4.48%) aligned concordantly 0 times\"                        \n",
       " [4] \"    2388 (95.52%) aligned concordantly exactly 1 time\"               \n",
       " [5] \"    0 (0.00%) aligned concordantly >1 times\"                         \n",
       " [6] \"    ----\"                                                            \n",
       " [7] \"    112 pairs aligned concordantly 0 times; of these:\"               \n",
       " [8] \"      31 (27.68%) aligned discordantly 1 time\"                       \n",
       " [9] \"    ----\"                                                            \n",
       "[10] \"    81 pairs aligned 0 times concordantly or discordantly; of these:\"\n",
       "[11] \"      162 mates make up the pairs; of these:\"                        \n",
       "[12] \"        152 (93.83%) aligned 0 times\"                                \n",
       "[13] \"        10 (6.17%) aligned exactly 1 time\"                           \n",
       "[14] \"        0 (0.00%) aligned >1 times\"                                  \n",
       "[15] \"96.96% overall alignment rate\"                                       "
      ]
     },
     "metadata": {},
     "output_type": "display_data"
    }
   ],
   "source": [
    "mapeo_output <- bowtie2(bt2Index = 'indice/SARS-Cov2',\n",
    "                        samOutput = 'ERR4423464.sam',\n",
    "                        seq1 = 'data/ERR4423464_1.fastq',\n",
    "                        seq2 = 'data/ERR4423464_2.fastq',\n",
    "                        overwrite = TRUE)\n",
    "mapeo_output"
   ]
  },
  {
   "cell_type": "markdown",
   "metadata": {},
   "source": [
    "Dedica un tiempo a leer el mensaje de salida del mapeo. ¿Te parece un resultado satisfactorio? ¿Puedes interpretar toda la información?\n",
    "\n",
    "El archivo de salida, `ERR4423464.sam`, sí es un archivo de texto en formato SAM, que puedes abrir para explorarlo. Observarás que las líneas son más largas que el espacio disponible en la pantalla, lo que dificulta reconocer la regularidad del formato. Para identificar mejor las columnas puedes usar el comando siguiente en una shell de Unix:\n",
    "\n",
    "`less -S ERR4423464.sam`\n",
    "\n",
    "Visita [este enlace](https://en.wikipedia.org/wiki/SAM_(file_format)) o bien la [publicación original](https://academic.oup.com/bioinformatics/article/25/16/2078/204688) donde se describe este formato. De todas formas, es más práctico (y ocupa menos) la versión *binaria* del formato SAM, llamada *BAM*. Vamos a crear una versión *bam* de nuestros alineamientos para usarla en el próximo paso:"
   ]
  },
  {
   "cell_type": "code",
   "execution_count": 8,
   "metadata": {},
   "outputs": [
    {
     "data": {
      "text/html": [
       "'ERR4423464.bam'"
      ],
      "text/latex": [
       "'ERR4423464.bam'"
      ],
      "text/markdown": [
       "'ERR4423464.bam'"
      ],
      "text/plain": [
       "[1] \"ERR4423464.bam\""
      ]
     },
     "metadata": {},
     "output_type": "display_data"
    },
    {
     "name": "stdout",
     "output_type": "stream",
     "text": [
      "                                group |    nb of |    nb of | mean / max\n",
      "                                   of |  records |   unique | records per\n",
      "                              records | in group |   QNAMEs | unique QNAME\n",
      "All records........................ A |     5000 |     2500 |    2 / 2\n",
      "  o template has single segment.... S |        0 |        0 |   NA / NA\n",
      "  o template has multiple segments. M |     5000 |     2500 |    2 / 2\n",
      "      - first segment.............. F |     2500 |     2500 |    1 / 1\n",
      "      - last segment............... L |     2500 |     2500 |    1 / 1\n",
      "      - other segment.............. O |        0 |        0 |   NA / NA\n",
      "\n",
      "Note that (S, M) is a partitioning of A, and (F, L, O) is a partitioning of M.\n",
      "Indentation reflects this.\n",
      "\n",
      "Details for group M:\n",
      "  o record is mapped.............. M1 |     4848 |     2429 |    2 / 2\n",
      "      - primary alignment......... M2 |     4848 |     2429 |    2 / 2\n",
      "      - secondary alignment....... M3 |        0 |        0 |   NA / NA\n",
      "  o record is unmapped............ M4 |      152 |       81 | 1.88 / 2\n",
      "\n",
      "Details for group F:\n",
      "  o record is mapped.............. F1 |     2425 |     2425 |    1 / 1\n",
      "      - primary alignment......... F2 |     2425 |     2425 |    1 / 1\n",
      "      - secondary alignment....... F3 |        0 |        0 |   NA / NA\n",
      "  o record is unmapped............ F4 |       75 |       75 |    1 / 1\n",
      "\n",
      "Details for group L:\n",
      "  o record is mapped.............. L1 |     2423 |     2423 |    1 / 1\n",
      "      - primary alignment......... L2 |     2423 |     2423 |    1 / 1\n",
      "      - secondary alignment....... L3 |        0 |        0 |   NA / NA\n",
      "  o record is unmapped............ L4 |       77 |       77 |    1 / 1\n"
     ]
    }
   ],
   "source": [
    "library(Rsamtools, quietly = TRUE)\n",
    "asBam('ERR4423464.sam', destination='ERR4423464', overwrite = TRUE)\n",
    "\n",
    "# Esto nos ofrece un resumen de los tipos de alineamientos encontrados:\n",
    "quickBamFlagSummary('ERR4423464.bam')"
   ]
  },
  {
   "cell_type": "markdown",
   "metadata": {},
   "source": [
    "## El formato VCF\n",
    "El formato SAM contiene mucha información pero no nos permite una visión panorámica a lo largo del genoma de referencia. Para poder visualizar cómo se distribuyen las secuencias cortas a lo largo del genoma de referencia, necesitamos *amontonarlas*."
   ]
  },
  {
   "cell_type": "code",
   "execution_count": null,
   "metadata": {},
   "outputs": [],
   "source": [
    "library(VariantTools)\n"
   ]
  }
 ],
 "metadata": {
  "kernelspec": {
   "display_name": "R",
   "language": "R",
   "name": "ir"
  },
  "language_info": {
   "codemirror_mode": "r",
   "file_extension": ".r",
   "mimetype": "text/x-r-source",
   "name": "R",
   "pygments_lexer": "r",
   "version": "3.6.3"
  }
 },
 "nbformat": 4,
 "nbformat_minor": 4
}
