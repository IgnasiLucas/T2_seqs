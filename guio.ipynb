{
 "cells": [
  {
   "cell_type": "markdown",
   "metadata": {},
   "source": [
    "# Tema 2. Análisis de secuencias\n",
    "\n",
    "## Análisis de calidad de secuencias cortas\n",
    "\n",
    "El objetivo del primer ejercicio es mapear un conjunto de secuencias cortas a un genoma de referencia.\n",
    "\n",
    "Las secuencias cortas provienen de un experimento de secuenciación de un aisalado de coronavirus. Se encuentran en los archivos `data/ERR4423464_1.fastq` y `data/ERR4423464_2.fastq`, que son archivos de texto con formato **fastq**. Hay dos porque se trata de lecturas emparejadas (*paired end*): cada fragmento original de DNA ha sido secuenciado primero desde un extremo y después desde el opuesto. Las dos lecturas pueden llegar a solaparse, si el fragmento original no era demasiado largo. Primero, échale un vistazo al archivo. Deberías poder observar algo así:\n",
    "\n",
    "    @ERR4423464.1 M00289:305:000000000-J7B3T:1:1101:18085:1894 length=109\n",
    "    CTGCTACACGCTGCGAAGCTCCCAATTTGTAATAAGAAAGCGTTCGTGATGTAGCAACAGTGATTTCTTTAGGC...\n",
    "    +ERR4423464.1 M00289:305:000000000-J7B3T:1:1101:18085:1894 length=109\n",
    "    BC@CCDE9F-@C7C+++6@CEFF8,CFFCFA9F9,,,,,,C:FFFCF@,C9F99C,6C8<C9,EFFFFEE9,,9...\n",
    "\n",
    "\n",
    "Puedes aprender más sobre el formato **fastq** en [aquí](https://en.wikipedia.org/wiki/FASTQ_format). ¿Puedes identificar las diferentes partes del formato? ¿Para qué sirve la cuarta línea de cada registro?\n",
    "\n",
    "A continuación utilizaremos el paquete *ShortReads* de R para comprovar la calidad y características de las secuencias. Este paquete ha sido creado por Martin Morgan, Michael Lawrence, Simon Anders, y distribuido con licencia *Artistic-2.0* en [Bioconductor](http://www.bioconductor.org/packages/release/bioc/html/ShortRead.html)."
   ]
  },
  {
   "cell_type": "code",
   "execution_count": 6,
   "metadata": {},
   "outputs": [],
   "source": [
    "# Para poder usar funciones de análisis de secuencias cortas\n",
    "# necesitamos cargar algun paquete específico, como \"ShortReads\":\n",
    "\n",
    "library(ShortRead, quietly = FALSE)    # la opción \"quietly=TRUE\" evita mensajes innecesarios.\n",
    "#library(Biostrings, quietly = FALSE)"
   ]
  },
  {
   "cell_type": "code",
   "execution_count": 7,
   "metadata": {},
   "outputs": [],
   "source": [
    "# La funicón qa() aplica un análisis estándard a los archivos indicados,\n",
    "# en este caso, los únicos dos archivos con extensión \"fastq\" en la carpeta\n",
    "# \"data\":\n",
    "\n",
    "ResumenCalidad <- qa('data', type = 'fastq', pattern = '*.fastq')"
   ]
  },
  {
   "cell_type": "code",
   "execution_count": 3,
   "metadata": {},
   "outputs": [],
   "source": [
    "# Podemos ver el contenido del objeto \"ResumenCalidad\" así:\n",
    "\n",
    "ResumenCalidad"
   ]
  },
  {
   "cell_type": "code",
   "execution_count": 4,
   "metadata": {},
   "outputs": [],
   "source": [
    "# Así como acceder a sus elementos individuales:\n",
    "\n",
    "ResumenCalidad[['readCounts']]"
   ]
  },
  {
   "cell_type": "code",
   "execution_count": 5,
   "metadata": {},
   "outputs": [],
   "source": [
    "# Edita este bloque para mostrar otros elementos del \"ResumenCalidad\",\n",
    "# como por ejemplo \"baseCalls\". Para mostrar sólo una pequeña parte\n",
    "# de los elementos más grandes, puedes usar las funciones head() y tail():\n",
    "head(ResumenCalidad[['baseQuality']])"
   ]
  },
  {
   "cell_type": "code",
   "execution_count": 6,
   "metadata": {},
   "outputs": [],
   "source": [
    "# Por último, podemos generar un archivo html con toda la información\n",
    "# generada por la función qa().\n",
    "report(ResumenCalidad, dest = 'ResumenCalidad.html')"
   ]
  },
  {
   "cell_type": "markdown",
   "metadata": {},
   "source": [
    "Después de experimentar con los resultados de la función *qa()* del paquete *ShortRead*, habrás observado que en algunos aspectos no se ajusta a nuestros datos. Por ejemplo, las secuencias en un archivo **fastq** no están alineadas, y por tanto *qa()* no ha podido informar sobre la calidad de los alineamientos. Además, un análisis estándard puede no responder a todas nuestras necesidades. Ejecutando el código a continuación generarás un histograma de las longitudes de las secuencias en los dos archivos **fastq**.\n",
    "\n",
    "Como las longitudes de las secuencias no parecen estar registradas en el informe de *qa()*, es necesario leer de nuevo los datos originales. Para ello, disponemos de diferentes funciones. Como en este caso particular se trata de dos archivos relativamente pequeños, podemos usar la función *readFastq()*, que cargará en memoria la totalidad de las secuencias. Pero es más habitual, para la finalidad de comprobar la calidad de los datos, usar solo una fracción aleatoria de las secuencias. Así pues, usaremos la función *FastqSampler()* para extraer 100000 secuencias de cada archivo."
   ]
  },
  {
   "cell_type": "code",
   "execution_count": 8,
   "metadata": {},
   "outputs": [],
   "source": [
    "muestra1 <- yield(FastqSampler('data/ERR4423464_1.fastq', n = 100000))\n",
    "muestra2 <- yield(FastqSampler('data/ERR4423464_2.fastq', n = 100000))\n",
    "\n",
    "# Para mostrar las primeras secuencias de cada muestra:\n",
    "head(sread(muestra1))"
   ]
  },
  {
   "cell_type": "code",
   "execution_count": 9,
   "metadata": {},
   "outputs": [],
   "source": [
    "# Podemos mostrar también, sus calidades:\n",
    "head(quality(muestra1))"
   ]
  },
  {
   "cell_type": "code",
   "execution_count": 10,
   "metadata": {},
   "outputs": [],
   "source": [
    "# Y extraer directamente sus longitudes:\n",
    "head(width(muestra1))"
   ]
  },
  {
   "cell_type": "code",
   "execution_count": 11,
   "metadata": {},
   "outputs": [],
   "source": [
    "# Y para hacer un histograma, podemos usar la función hist():\n",
    "hist(width(muestra1))"
   ]
  },
  {
   "cell_type": "markdown",
   "metadata": {},
   "source": [
    "El análisis de la calidad de las secuencias obtenidas de un experimento de secuenciación es un paso fundamental en el que deben eliminarse las secuencias de baja calidad, o recortarse si en algun extremo la secuenciación a producido resultados pobres.\n",
    "\n",
    "## Mapeo de lecturas cortas\n",
    "El siguiente paso es normalmente el de identificar la posición de origen, en un genoma de referencia, de todas las secuencias cortas obtenidas por secuenciación. Existen muchos programas disponibles para ello. En el entorno de R podemos utilizar una implementación de Bowtie-2, llamada *Rbowtie2*, creada por Zheng Wei y Wei Zhang y disponible en [Bioconductor](https://bioconductor.org/packages/release/bioc/html/Rbowtie2.html) bajo licencia *GPL (>= 3)*.\n",
    "\n",
    "El genoma de referencia es el del SARS-CoV-2, y se encuentra en el archivo `data/referencia.fna`. Éstas son sus primeras líneas:\n",
    "\n",
    "    >NC_045512.2 Severe acute respiratory syndrome coronavirus 2 isolate Wuhan-Hu-1, complete genome\n",
    "    ATTAAAGGTTTATACCTTCCCAGGTAACAAACCAACCAACTTTCGATCTCTTGTAGATCTGTTCTCTAAA\n",
    "    CGAACTTTAAAATCTGTGTGGCTGTCACTCGGCTGCATGCTTAGTGCACTCACGCAGTATAATTAATAAC\n",
    "    TAATTACTGTCGTTGACAGGACACGAGTAACTCGTCTATCTTCTGCAGGCTGCTTACGGTTTCGTCCGTG\n",
    "    TTGCAGCCGATCATCAGCACATCTAGGTTTCGTCCGGGTGTGACCGAAAGGTAAGATGGAGAGCCTTGTC\n",
    "    CCTGGTTTCAACGAGAAAACACACGTCCAACTCAGTTTGCCTGTTTTACAGGTTCGCGACGTGCTCGTAC\n",
    "    GTGGCTTTGGAGACTCCGTGGAGGAGGTCTTATCAGAGGCACGTCAACATCTTAAAGATGGCACTTGTGG\n",
    "    CTTAGTAGAAGTTGAAAAAGGCGTTTTGCCTCAACTTGAACAGCCCTATGTGTTCATCAAACGTTCGGAT\n",
    "\n",
    "¿Reconoces el formato? Antes de *mapear* o alinear las secuencias cortas al genoma de referencia es necesario preparar (de hecho, *indexar*) el genoma de referencia."
   ]
  },
  {
   "cell_type": "code",
   "execution_count": 2,
   "metadata": {},
   "outputs": [],
   "source": [
    "library(Rbowtie2)"
   ]
  },
  {
   "cell_type": "code",
   "execution_count": null,
   "metadata": {},
   "outputs": [],
   "source": []
  }
 ],
 "metadata": {
  "kernelspec": {
   "display_name": "R",
   "language": "R",
   "name": "ir"
  },
  "language_info": {
   "codemirror_mode": "r",
   "file_extension": ".r",
   "mimetype": "text/x-r-source",
   "name": "R",
   "pygments_lexer": "r",
   "version": "3.6.3"
  }
 },
 "nbformat": 4,
 "nbformat_minor": 4
}
