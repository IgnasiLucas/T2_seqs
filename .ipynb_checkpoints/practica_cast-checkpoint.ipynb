{
 "cells": [
  {
   "cell_type": "markdown",
   "metadata": {},
   "source": [
    "# Tema 2. Análisis de secuencias\n",
    "\n",
    "## Análisis de calidad de secuencias cortas\n",
    "\n",
    "Las secuencias cortas que usaremos en esta práctica provienen de un experimento de secuenciación de un aisalado de coronavirus. Se encuentran en los archivos `data/ERR4423464_1.fastq` y `data/ERR4423464_2.fastq`, que son archivos de texto con formato **fastq**. Hay dos porque se trata de lecturas emparejadas (*paired end*): cada fragmento original de DNA ha sido secuenciado primero desde un extremo y después desde el opuesto. Las dos lecturas pueden llegar a solaparse, si el fragmento original no era demasiado largo. Primero, échale un vistazo al archivo. Deberías poder observar algo así:\n",
    "\n",
    "    @ERR4423464.1 M00289:305:000000000-J7B3T:1:1101:18085:1894 length=109\n",
    "    CTGCTACACGCTGCGAAGCTCCCAATTTGTAATAAGAAAGCGTTCGTGATGTAGCAACAGTGATTTCTTTAGGC...\n",
    "    +ERR4423464.1 M00289:305:000000000-J7B3T:1:1101:18085:1894 length=109\n",
    "    BC@CCDE9F-@C7C+++6@CEFF8,CFFCFA9F9,,,,,,C:FFFCF@,C9F99C,6C8<C9,EFFFFEE9,,9...\n",
    "\n",
    "\n",
    "Puedes aprender más sobre el formato **fastq** en [aquí](https://en.wikipedia.org/wiki/FASTQ_format). ¿Puedes identificar las diferentes partes del formato? ¿Para qué sirve la cuarta línea de cada registro?\n",
    "\n",
    "A continuación utilizaremos el paquete *ShortReads* de R para comprobar la calidad y características de las secuencias. Este paquete ha sido creado por Martin Morgan, Michael Lawrence, Simon Anders, y distribuido con licencia *Artistic-2.0* en [Bioconductor](http://www.bioconductor.org/packages/release/bioc/html/ShortRead.html).\n",
    "\n",
    "Recuerda que para ejecutar el código mostrado a continuación (o aquel que tú escribas) debes seleccionar el bloque de código y pinchar en el botón de *Run*, en el menú superior. El código está distribuido en diferentes bloques para facilitar la comprensión de cada paso."
   ]
  },
  {
   "cell_type": "code",
   "execution_count": 1,
   "metadata": {},
   "outputs": [
    {
     "data": {
      "text/html": [
       "TRUE"
      ],
      "text/latex": [
       "TRUE"
      ],
      "text/markdown": [
       "TRUE"
      ],
      "text/plain": [
       "[1] TRUE"
      ]
     },
     "metadata": {},
     "output_type": "display_data"
    }
   ],
   "source": [
    "# Para poder usar funciones de análisis de secuencias cortas\n",
    "# necesitamos cargar algun paquete específico, como \"ShortReads\":\n",
    "suppressMessages(library('ShortRead', logical.return = TRUE))\n",
    "\n",
    "# library('ShortRead')  # haría lo mismo, pero con un largo mensaje."
   ]
  },
  {
   "cell_type": "code",
   "execution_count": 2,
   "metadata": {},
   "outputs": [],
   "source": [
    "# La funicón qa() aplica un análisis estándard a los archivos indicados,\n",
    "# en este caso, los únicos dos archivos con extensión \"fastq\" en la carpeta\n",
    "# \"data\":\n",
    "\n",
    "ResumenCalidad <- qa('data', type = 'fastq', pattern = '*.fastq')"
   ]
  },
  {
   "cell_type": "code",
   "execution_count": 3,
   "metadata": {},
   "outputs": [
    {
     "data": {
      "text/plain": [
       "class: FastqQA(10)\n",
       "QA elements (access with qa[[\"elt\"]]):\n",
       "  readCounts: data.frame(2 3)\n",
       "  baseCalls: data.frame(2 5)\n",
       "  readQualityScore: data.frame(1024 4)\n",
       "  baseQuality: data.frame(190 3)\n",
       "  alignQuality: data.frame(2 3)\n",
       "  frequentSequences: data.frame(100 4)\n",
       "  sequenceDistribution: data.frame(72 4)\n",
       "  perCycle: list(2)\n",
       "    baseCall: data.frame(1626 4)\n",
       "    quality: data.frame(8719 5)\n",
       "  perTile: list(2)\n",
       "    readCounts: data.frame(0 4)\n",
       "    medianReadQualityScore: data.frame(0 4)\n",
       "  adapterContamination: data.frame(2 1)"
      ]
     },
     "metadata": {},
     "output_type": "display_data"
    }
   ],
   "source": [
    "# Podemos ver el contenido del objeto \"ResumenCalidad\" así:\n",
    "\n",
    "ResumenCalidad"
   ]
  },
  {
   "cell_type": "code",
   "execution_count": 4,
   "metadata": {},
   "outputs": [
    {
     "data": {
      "text/html": [
       "<table>\n",
       "<caption>A data.frame: 2 × 3</caption>\n",
       "<thead>\n",
       "\t<tr><th></th><th scope=col>read</th><th scope=col>filter</th><th scope=col>aligned</th></tr>\n",
       "\t<tr><th></th><th scope=col>&lt;int&gt;</th><th scope=col>&lt;lgl&gt;</th><th scope=col>&lt;lgl&gt;</th></tr>\n",
       "</thead>\n",
       "<tbody>\n",
       "\t<tr><th scope=row>ERR4423464_1.fastq</th><td>65135</td><td>NA</td><td>NA</td></tr>\n",
       "\t<tr><th scope=row>ERR4423464_2.fastq</th><td>65135</td><td>NA</td><td>NA</td></tr>\n",
       "</tbody>\n",
       "</table>\n"
      ],
      "text/latex": [
       "A data.frame: 2 × 3\n",
       "\\begin{tabular}{r|lll}\n",
       "  & read & filter & aligned\\\\\n",
       "  & <int> & <lgl> & <lgl>\\\\\n",
       "\\hline\n",
       "\tERR4423464\\_1.fastq & 65135 & NA & NA\\\\\n",
       "\tERR4423464\\_2.fastq & 65135 & NA & NA\\\\\n",
       "\\end{tabular}\n"
      ],
      "text/markdown": [
       "\n",
       "A data.frame: 2 × 3\n",
       "\n",
       "| <!--/--> | read &lt;int&gt; | filter &lt;lgl&gt; | aligned &lt;lgl&gt; |\n",
       "|---|---|---|---|\n",
       "| ERR4423464_1.fastq | 65135 | NA | NA |\n",
       "| ERR4423464_2.fastq | 65135 | NA | NA |\n",
       "\n"
      ],
      "text/plain": [
       "                   read  filter aligned\n",
       "ERR4423464_1.fastq 65135 NA     NA     \n",
       "ERR4423464_2.fastq 65135 NA     NA     "
      ]
     },
     "metadata": {},
     "output_type": "display_data"
    }
   ],
   "source": [
    "# Así como acceder a sus elementos individuales:\n",
    "\n",
    "ResumenCalidad[['readCounts']]\n",
    "# Edita este bloque para mostrar otros elementos del \"ResumenCalidad\",\n",
    "# como por ejemplo \"baseCalls\"."
   ]
  },
  {
   "cell_type": "code",
   "execution_count": 5,
   "metadata": {},
   "outputs": [
    {
     "data": {
      "text/html": [
       "<table>\n",
       "<caption>A data.frame: 6 × 3</caption>\n",
       "<thead>\n",
       "\t<tr><th></th><th scope=col>score</th><th scope=col>count</th><th scope=col>lane</th></tr>\n",
       "\t<tr><th></th><th scope=col>&lt;fct&gt;</th><th scope=col>&lt;dbl&gt;</th><th scope=col>&lt;fct&gt;</th></tr>\n",
       "</thead>\n",
       "<tbody>\n",
       "\t<tr><th scope=row>1</th><td> </td><td> 0</td><td>ERR4423464_1.fastq</td></tr>\n",
       "\t<tr><th scope=row>2</th><td>!</td><td> 0</td><td>ERR4423464_1.fastq</td></tr>\n",
       "\t<tr><th scope=row>3</th><td>\"</td><td> 0</td><td>ERR4423464_1.fastq</td></tr>\n",
       "\t<tr><th scope=row>4</th><td>#</td><td>33</td><td>ERR4423464_1.fastq</td></tr>\n",
       "\t<tr><th scope=row>5</th><td>$</td><td> 0</td><td>ERR4423464_1.fastq</td></tr>\n",
       "\t<tr><th scope=row>6</th><td>%</td><td> 0</td><td>ERR4423464_1.fastq</td></tr>\n",
       "</tbody>\n",
       "</table>\n"
      ],
      "text/latex": [
       "A data.frame: 6 × 3\n",
       "\\begin{tabular}{r|lll}\n",
       "  & score & count & lane\\\\\n",
       "  & <fct> & <dbl> & <fct>\\\\\n",
       "\\hline\n",
       "\t1 &   &  0 & ERR4423464\\_1.fastq\\\\\n",
       "\t2 & ! &  0 & ERR4423464\\_1.fastq\\\\\n",
       "\t3 & \" &  0 & ERR4423464\\_1.fastq\\\\\n",
       "\t4 & \\# & 33 & ERR4423464\\_1.fastq\\\\\n",
       "\t5 & \\$ &  0 & ERR4423464\\_1.fastq\\\\\n",
       "\t6 & \\% &  0 & ERR4423464\\_1.fastq\\\\\n",
       "\\end{tabular}\n"
      ],
      "text/markdown": [
       "\n",
       "A data.frame: 6 × 3\n",
       "\n",
       "| <!--/--> | score &lt;fct&gt; | count &lt;dbl&gt; | lane &lt;fct&gt; |\n",
       "|---|---|---|---|\n",
       "| 1 | <!----> |  0 | ERR4423464_1.fastq |\n",
       "| 2 | ! |  0 | ERR4423464_1.fastq |\n",
       "| 3 | \" |  0 | ERR4423464_1.fastq |\n",
       "| 4 | # | 33 | ERR4423464_1.fastq |\n",
       "| 5 | $ |  0 | ERR4423464_1.fastq |\n",
       "| 6 | % |  0 | ERR4423464_1.fastq |\n",
       "\n"
      ],
      "text/plain": [
       "  score count lane              \n",
       "1        0    ERR4423464_1.fastq\n",
       "2 !      0    ERR4423464_1.fastq\n",
       "3 \"      0    ERR4423464_1.fastq\n",
       "4 #     33    ERR4423464_1.fastq\n",
       "5 $      0    ERR4423464_1.fastq\n",
       "6 %      0    ERR4423464_1.fastq"
      ]
     },
     "metadata": {},
     "output_type": "display_data"
    }
   ],
   "source": [
    "# Para mostrar sólo una pequeña parte de los elementos más grandes,\n",
    "# puedes usar las funciones head() y tail():\n",
    "head(ResumenCalidad[['baseQuality']])"
   ]
  },
  {
   "cell_type": "code",
   "execution_count": 6,
   "metadata": {},
   "outputs": [
    {
     "name": "stderr",
     "output_type": "stream",
     "text": [
      "Warning message in dir.create(dest, recursive = TRUE):\n",
      "“'ResumenCalidad.html' already exists”\n"
     ]
    },
    {
     "data": {
      "text/html": [
       "'ResumenCalidad.html/index.html'"
      ],
      "text/latex": [
       "'ResumenCalidad.html/index.html'"
      ],
      "text/markdown": [
       "'ResumenCalidad.html/index.html'"
      ],
      "text/plain": [
       "[1] \"ResumenCalidad.html/index.html\""
      ]
     },
     "metadata": {},
     "output_type": "display_data"
    }
   ],
   "source": [
    "# Por último, podemos generar un archivo html con toda la información\n",
    "# generada por la función qa().\n",
    "report(ResumenCalidad, dest = 'ResumenCalidad.html')"
   ]
  },
  {
   "cell_type": "markdown",
   "metadata": {},
   "source": [
    "Después de experimentar con los resultados de la función *qa()* del paquete *ShortRead*, habrás observado que en algunos aspectos no se ajusta a nuestros datos. Por ejemplo, las secuencias en un archivo **fastq** no están alineadas, y por tanto *qa()* no ha podido informar sobre la calidad de los alineamientos. Además, un análisis estándard puede no responder a todas nuestras necesidades.\n",
    "\n",
    "Como las longitudes de las secuencias no parecen estar registradas en el informe de *qa()*, es necesario leer de nuevo los datos originales. Para ello, disponemos de diferentes funciones. Normalmente, para la finalidad de comprobar la calidad de los datos, se usa solo una fracción aleatoria de las secuencias. Para eso sirve la función `FastqSampler()`. Pero en este caso particular se trata de dos archivos relativamente pequeños, y podemos usar la función `readFastq()`, que cargará en memoria la totalidad de las secuencias."
   ]
  },
  {
   "cell_type": "code",
   "execution_count": 7,
   "metadata": {},
   "outputs": [
    {
     "data": {
      "text/plain": [
       "  A DNAStringSet instance of length 6\n",
       "    width seq\n",
       "[1]   184 AGACTACACCATGAGGTGCTGACTGAGGGAAGGA...TTGTTGAGTCACATATGTCTGCAAACTTTGAAG\n",
       "[2]   200 GTACATGTCTTATAGCTTCTTCGCGGGTGATAAA...CTGAGGTGTGTAGGTGCCTGTGTAGGATGTAAC\n",
       "[3]   183 TCTATTACTAGATAAACGCACTACGTGCTTTTCA...ATTAAAACACTTCTTCTTTGCTCAGGATGGTAA\n",
       "[4]    85 GTAAAAGACTGTGTTGTATTACACAGTTACTTCA...TGTACTCAACTCAATTGAGTACAGACACTGGTG\n",
       "[5]    84 CAACAAGTCCTATTTCTGAACATGACTACCAGAT...AATGGGAATCTGGAGTAAAAGACTGTGTTGTAT\n",
       "[6]   201 GCTCGTACGTGGCTTTGGAGACTCCGTGGAGGAG...TCATGTTATGGTTGAGCTGGTAGCAGAACTCGA"
      ]
     },
     "metadata": {},
     "output_type": "display_data"
    }
   ],
   "source": [
    "lecturas.1 <- readFastq('data/ERR4423464_1.fastq')\n",
    "lecturas.2 <- readFastq('data/ERR4423464_2.fastq')\n",
    "\n",
    "# Para mostrar las primeras secuencias de cada muestra:\n",
    "head(sread(lecturas.1))"
   ]
  },
  {
   "cell_type": "code",
   "execution_count": 8,
   "metadata": {},
   "outputs": [
    {
     "data": {
      "text/plain": [
       "class: FastqQuality\n",
       "quality:\n",
       "  A BStringSet instance of length 6\n",
       "    width seq\n",
       "[1]   184 CCCCCGGGGGGGGGGGGGGGGGGGGGGGGGGGGG...GGGGGGGGGGGGGGGGGGGGGFGGGGGGGGGGF\n",
       "[2]   200 CCCCCCFFGAFGGGGGEEFFFFGGEFDGEGGGGF...GGGGGGGFGGGGGGGGGGGFGGGGGGGGGGGGG\n",
       "[3]   183 CCCCCGGGGGGGGGGGGGGGGGGGGGGGGGGGGG...GGGGGGGGGGGGGGGGGGGGGGGGGGGGGGGGG\n",
       "[4]    85 CCCCCGGGGGGGGGGGGGGGGGGGGGGGGGGGGG...GGGGGGGGGGGGGGGGGGGGGGGGGGGGGGGGG\n",
       "[5]    84 BCCCCFECFFFFGGGCF9<FFFGC<FGAFDC8<F...6<FE9,,CFFGFA9CE@CA<<,EF8F,C@CF<F\n",
       "[6]   201 ?CCCCFCFCF<-@FFG<,CE@FEFGGGCC@FD;F...GGFGGGGGGFGGGFCGGGGCFG9FGGCFEGGGB"
      ]
     },
     "metadata": {},
     "output_type": "display_data"
    }
   ],
   "source": [
    "# Podemos mostrar también, sus calidades:\n",
    "head(quality(lecturas.1))"
   ]
  },
  {
   "cell_type": "code",
   "execution_count": 9,
   "metadata": {},
   "outputs": [
    {
     "data": {
      "text/html": [
       "<style>\n",
       ".list-inline {list-style: none; margin:0; padding: 0}\n",
       ".list-inline>li {display: inline-block}\n",
       ".list-inline>li:not(:last-child)::after {content: \"\\00b7\"; padding: 0 .5ex}\n",
       "</style>\n",
       "<ol class=list-inline><li>184</li><li>200</li><li>183</li><li>85</li><li>84</li><li>201</li></ol>\n"
      ],
      "text/latex": [
       "\\begin{enumerate*}\n",
       "\\item 184\n",
       "\\item 200\n",
       "\\item 183\n",
       "\\item 85\n",
       "\\item 84\n",
       "\\item 201\n",
       "\\end{enumerate*}\n"
      ],
      "text/markdown": [
       "1. 184\n",
       "2. 200\n",
       "3. 183\n",
       "4. 85\n",
       "5. 84\n",
       "6. 201\n",
       "\n",
       "\n"
      ],
      "text/plain": [
       "[1] 184 200 183  85  84 201"
      ]
     },
     "metadata": {},
     "output_type": "display_data"
    }
   ],
   "source": [
    "# Y extraer directamente sus longitudes:\n",
    "head(width(lecturas.1))"
   ]
  },
  {
   "cell_type": "code",
   "execution_count": 10,
   "metadata": {},
   "outputs": [
    {
     "data": {
      "image/png": "[encoded data removed]",
      "text/plain": [
       "Plot with title “Histogram of width(lecturas.1)”"
      ]
     },
     "metadata": {
      "image/png": {
       "height": 420,
       "width": 420
      }
     },
     "output_type": "display_data"
    }
   ],
   "source": [
    "# Y para hacer un histograma, podemos usar la función hist():\n",
    "hist(width(lecturas.1))"
   ]
  },
  {
   "cell_type": "markdown",
   "metadata": {},
   "source": [
    "Intenta usar la función `mean()` para calcular la longitud media de las secuencias de cada archivo.\n",
    "\n",
    "El análisis de la calidad de las secuencias obtenidas de un experimento de secuenciación es un paso fundamental en el que deben eliminarse las secuencias de baja calidad, o recortarse si en algun extremo la secuenciación a producido resultados pobres.\n",
    "\n",
    "## Mapeo de lecturas cortas\n",
    "El siguiente paso es normalmente el de identificar la posición de origen, en un genoma de referencia, de todas las secuencias cortas obtenidas por secuenciación. Existen muchos programas disponibles para ello. En el entorno de R podemos utilizar una implementación de Bowtie-2, llamada *Rbowtie2*, creada por Zheng Wei y Wei Zhang y disponible en [Bioconductor](https://bioconductor.org/packages/release/bioc/html/Rbowtie2.html) bajo licencia *GPL (>= 3)*.\n",
    "\n",
    "El genoma de referencia es el del SARS-CoV-2, y se encuentra en el archivo `data/referencia.fna`. Éstas son sus primeras líneas:\n",
    "\n",
    "    >NC_045512.2 Severe acute respiratory syndrome coronavirus 2 isolate Wuhan-Hu-1, complete genome\n",
    "    ATTAAAGGTTTATACCTTCCCAGGTAACAAACCAACCAACTTTCGATCTCTTGTAGATCTGTTCTCTAAA\n",
    "    CGAACTTTAAAATCTGTGTGGCTGTCACTCGGCTGCATGCTTAGTGCACTCACGCAGTATAATTAATAAC\n",
    "    TAATTACTGTCGTTGACAGGACACGAGTAACTCGTCTATCTTCTGCAGGCTGCTTACGGTTTCGTCCGTG\n",
    "    TTGCAGCCGATCATCAGCACATCTAGGTTTCGTCCGGGTGTGACCGAAAGGTAAGATGGAGAGCCTTGTC\n",
    "    CCTGGTTTCAACGAGAAAACACACGTCCAACTCAGTTTGCCTGTTTTACAGGTTCGCGACGTGCTCGTAC\n",
    "    GTGGCTTTGGAGACTCCGTGGAGGAGGTCTTATCAGAGGCACGTCAACATCTTAAAGATGGCACTTGTGG\n",
    "    CTTAGTAGAAGTTGAAAAAGGCGTTTTGCCTCAACTTGAACAGCCCTATGTGTTCATCAAACGTTCGGAT\n",
    "\n",
    "¿Reconoces el formato? Antes de *mapear* o alinear las secuencias cortas al genoma de referencia es necesario preparar (de hecho, *indexar*) el genoma de referencia. El índice se compondrá de unos pocos archivos, con el mismo nombre base y diferentes terminaciones. Para tener los archivos ordenados, creamos una carpeta donde guardar el índice."
   ]
  },
  {
   "cell_type": "code",
   "execution_count": 11,
   "metadata": {},
   "outputs": [
    {
     "name": "stderr",
     "output_type": "stream",
     "text": [
      "Warning message in dir.create(\"indice\"):\n",
      "“'indice' already exists”\n",
      "Warning message in checkFileCreatable(paste0(bt2Index, \".1.bt2\"), \"bt2Index\", overwrite):\n",
      "“For argument `bt2Index`, file exist:indice/SARS-Cov2.1.bt2. It will be overwrited”\n",
      "Warning message in checkFileCreatable(paste0(bt2Index, \".2.bt2\"), \"bt2Index\", overwrite):\n",
      "“For argument `bt2Index`, file exist:indice/SARS-Cov2.2.bt2. It will be overwrited”\n",
      "Warning message in checkFileCreatable(paste0(bt2Index, \".3.bt2\"), \"bt2Index\", overwrite):\n",
      "“For argument `bt2Index`, file exist:indice/SARS-Cov2.3.bt2. It will be overwrited”\n",
      "Warning message in checkFileCreatable(paste0(bt2Index, \".4.bt2\"), \"bt2Index\", overwrite):\n",
      "“For argument `bt2Index`, file exist:indice/SARS-Cov2.4.bt2. It will be overwrited”\n",
      "Warning message in checkFileCreatable(paste0(bt2Index, \".rev.1.bt2\"), \"bt2Index\", :\n",
      "“For argument `bt2Index`, file exist:indice/SARS-Cov2.rev.1.bt2. It will be overwrited”\n",
      "Warning message in checkFileCreatable(paste0(bt2Index, \".rev.2.bt2\"), \"bt2Index\", :\n",
      "“For argument `bt2Index`, file exist:indice/SARS-Cov2.rev.2.bt2. It will be overwrited”\n",
      "arguments 'show.output.on.console', 'minimized' and 'invisible' are for Windows only\n",
      "\n"
     ]
    },
    {
     "data": {
      "text/html": [],
      "text/latex": [],
      "text/markdown": [],
      "text/plain": [
       "character(0)"
      ]
     },
     "metadata": {},
     "output_type": "display_data"
    }
   ],
   "source": [
    "suppressMessages(library(Rbowtie2))\n",
    "dir.create('indice')\n",
    "\n",
    "# Observa como podemos usar más de una línea para escribir una orden más clara:\n",
    "build_output <- bowtie2_build(references = 'data/referencia.fna',\n",
    "                              bt2Index = 'indice/SARS-Cov2',\n",
    "                              '--quiet',\n",
    "                              overwrite = TRUE)\n",
    "\n",
    "# En esta variable hemos guardado los mensajes de salida del proceso. Veamos si hay\n",
    "# algun error:\n",
    "build_output"
   ]
  },
  {
   "cell_type": "markdown",
   "metadata": {},
   "source": [
    "La construcción del índice del genoma de referencia acepta muchas opciones. Las únicas que son imprescindibles son la dirección del archivo donde está el genoma de referencia y el nombre base que queremos darles a los archivos del índice. Comprueba que el índice ha sido creado en la carpeta designada. Los archivos que lo componen no son archivos de texto.\n",
    "\n",
    "Ahora podemos mapear las secuencias cortas al genoma del coronavirus SARS-Cov-2. Si has dado un nombre diferente a la carpeta del índice, no olvides cambiarlo aquí también. También puedes elegir el nombre del archivo donde se guardarán los resultados en formato SAM."
   ]
  },
  {
   "cell_type": "code",
   "execution_count": 12,
   "metadata": {},
   "outputs": [
    {
     "name": "stderr",
     "output_type": "stream",
     "text": [
      "Warning message in checkFileCreatable(samOutput, \"samOutput\", overwrite):\n",
      "“For argument `samOutput`, file exist:ERR4423464.sam. It will be overwrited”\n",
      "arguments 'show.output.on.console', 'minimized' and 'invisible' are for Windows only\n",
      "\n"
     ]
    },
    {
     "data": {
      "text/html": [
       "<style>\n",
       ".list-inline {list-style: none; margin:0; padding: 0}\n",
       ".list-inline>li {display: inline-block}\n",
       ".list-inline>li:not(:last-child)::after {content: \"\\00b7\"; padding: 0 .5ex}\n",
       "</style>\n",
       "<ol class=list-inline><li>'65135 reads; of these:'</li><li><span style=white-space:pre-wrap>'  65135 (100.00%) were paired; of these:'</span></li><li><span style=white-space:pre-wrap>'    2477 (3.80%) aligned concordantly 0 times'</span></li><li><span style=white-space:pre-wrap>'    62658 (96.20%) aligned concordantly exactly 1 time'</span></li><li><span style=white-space:pre-wrap>'    0 (0.00%) aligned concordantly &gt;1 times'</span></li><li><span style=white-space:pre-wrap>'    ----'</span></li><li><span style=white-space:pre-wrap>'    2477 pairs aligned concordantly 0 times; of these:'</span></li><li><span style=white-space:pre-wrap>'      714 (28.83%) aligned discordantly 1 time'</span></li><li><span style=white-space:pre-wrap>'    ----'</span></li><li><span style=white-space:pre-wrap>'    1763 pairs aligned 0 times concordantly or discordantly; of these:'</span></li><li><span style=white-space:pre-wrap>'      3526 mates make up the pairs; of these:'</span></li><li><span style=white-space:pre-wrap>'        3258 (92.40%) aligned 0 times'</span></li><li><span style=white-space:pre-wrap>'        268 (7.60%) aligned exactly 1 time'</span></li><li><span style=white-space:pre-wrap>'        0 (0.00%) aligned &gt;1 times'</span></li><li>'97.50% overall alignment rate'</li></ol>\n"
      ],
      "text/latex": [
       "\\begin{enumerate*}\n",
       "\\item '65135 reads; of these:'\n",
       "\\item '  65135 (100.00\\%) were paired; of these:'\n",
       "\\item '    2477 (3.80\\%) aligned concordantly 0 times'\n",
       "\\item '    62658 (96.20\\%) aligned concordantly exactly 1 time'\n",
       "\\item '    0 (0.00\\%) aligned concordantly >1 times'\n",
       "\\item '    ----'\n",
       "\\item '    2477 pairs aligned concordantly 0 times; of these:'\n",
       "\\item '      714 (28.83\\%) aligned discordantly 1 time'\n",
       "\\item '    ----'\n",
       "\\item '    1763 pairs aligned 0 times concordantly or discordantly; of these:'\n",
       "\\item '      3526 mates make up the pairs; of these:'\n",
       "\\item '        3258 (92.40\\%) aligned 0 times'\n",
       "\\item '        268 (7.60\\%) aligned exactly 1 time'\n",
       "\\item '        0 (0.00\\%) aligned >1 times'\n",
       "\\item '97.50\\% overall alignment rate'\n",
       "\\end{enumerate*}\n"
      ],
      "text/markdown": [
       "1. '65135 reads; of these:'\n",
       "2. <span style=white-space:pre-wrap>'  65135 (100.00%) were paired; of these:'</span>\n",
       "3. <span style=white-space:pre-wrap>'    2477 (3.80%) aligned concordantly 0 times'</span>\n",
       "4. <span style=white-space:pre-wrap>'    62658 (96.20%) aligned concordantly exactly 1 time'</span>\n",
       "5. <span style=white-space:pre-wrap>'    0 (0.00%) aligned concordantly &gt;1 times'</span>\n",
       "6. <span style=white-space:pre-wrap>'    ----'</span>\n",
       "7. <span style=white-space:pre-wrap>'    2477 pairs aligned concordantly 0 times; of these:'</span>\n",
       "8. <span style=white-space:pre-wrap>'      714 (28.83%) aligned discordantly 1 time'</span>\n",
       "9. <span style=white-space:pre-wrap>'    ----'</span>\n",
       "10. <span style=white-space:pre-wrap>'    1763 pairs aligned 0 times concordantly or discordantly; of these:'</span>\n",
       "11. <span style=white-space:pre-wrap>'      3526 mates make up the pairs; of these:'</span>\n",
       "12. <span style=white-space:pre-wrap>'        3258 (92.40%) aligned 0 times'</span>\n",
       "13. <span style=white-space:pre-wrap>'        268 (7.60%) aligned exactly 1 time'</span>\n",
       "14. <span style=white-space:pre-wrap>'        0 (0.00%) aligned &gt;1 times'</span>\n",
       "15. '97.50% overall alignment rate'\n",
       "\n",
       "\n"
      ],
      "text/plain": [
       " [1] \"65135 reads; of these:\"                                                \n",
       " [2] \"  65135 (100.00%) were paired; of these:\"                              \n",
       " [3] \"    2477 (3.80%) aligned concordantly 0 times\"                         \n",
       " [4] \"    62658 (96.20%) aligned concordantly exactly 1 time\"                \n",
       " [5] \"    0 (0.00%) aligned concordantly >1 times\"                           \n",
       " [6] \"    ----\"                                                              \n",
       " [7] \"    2477 pairs aligned concordantly 0 times; of these:\"                \n",
       " [8] \"      714 (28.83%) aligned discordantly 1 time\"                        \n",
       " [9] \"    ----\"                                                              \n",
       "[10] \"    1763 pairs aligned 0 times concordantly or discordantly; of these:\"\n",
       "[11] \"      3526 mates make up the pairs; of these:\"                         \n",
       "[12] \"        3258 (92.40%) aligned 0 times\"                                 \n",
       "[13] \"        268 (7.60%) aligned exactly 1 time\"                            \n",
       "[14] \"        0 (0.00%) aligned >1 times\"                                    \n",
       "[15] \"97.50% overall alignment rate\"                                         "
      ]
     },
     "metadata": {},
     "output_type": "display_data"
    }
   ],
   "source": [
    "mapeo_output <- bowtie2(bt2Index = 'indice/SARS-Cov2',\n",
    "                        samOutput = 'ERR4423464.sam',\n",
    "                        seq1 = 'data/ERR4423464_1.fastq',\n",
    "                        seq2 = 'data/ERR4423464_2.fastq',\n",
    "                        overwrite = TRUE)\n",
    "mapeo_output"
   ]
  },
  {
   "cell_type": "markdown",
   "metadata": {},
   "source": [
    "Dedica un tiempo a leer el mensaje de salida del mapeo. ¿Te parece un resultado satisfactorio? ¿Puedes interpretar toda la información?\n",
    "\n",
    "El archivo de salida, `ERR4423464.sam`, sí es un archivo de texto en formato SAM, que puedes abrir para explorarlo. Observarás que las líneas son más largas que el espacio disponible en la pantalla, lo que dificulta reconocer la regularidad del formato. Para identificar mejor las columnas puedes usar el comando siguiente en una shell de Unix:\n",
    "\n",
    "`less -S ERR4423464.sam`\n",
    "\n",
    "Visita [este enlace](https://en.wikipedia.org/wiki/SAM_(file_format)) o bien la [publicación original](https://academic.oup.com/bioinformatics/article/25/16/2078/204688) donde se describe este formato. De todas formas, es más práctico (y ocupa menos) la versión *binaria* del formato SAM, llamada *BAM*. Vamos a crear una versión *bam* de nuestros alineamientos para usarla en el próximo paso:"
   ]
  },
  {
   "cell_type": "code",
   "execution_count": 13,
   "metadata": {},
   "outputs": [
    {
     "data": {
      "text/html": [
       "'ERR4423464.bam'"
      ],
      "text/latex": [
       "'ERR4423464.bam'"
      ],
      "text/markdown": [
       "'ERR4423464.bam'"
      ],
      "text/plain": [
       "[1] \"ERR4423464.bam\""
      ]
     },
     "metadata": {},
     "output_type": "display_data"
    },
    {
     "name": "stdout",
     "output_type": "stream",
     "text": [
      "                                group |    nb of |    nb of | mean / max\n",
      "                                   of |  records |   unique | records per\n",
      "                              records | in group |   QNAMEs | unique QNAME\n",
      "All records........................ A |   130270 |    65135 |    2 / 2\n",
      "  o template has single segment.... S |        0 |        0 |   NA / NA\n",
      "  o template has multiple segments. M |   130270 |    65135 |    2 / 2\n",
      "      - first segment.............. F |    65135 |    65135 |    1 / 1\n",
      "      - last segment............... L |    65135 |    65135 |    1 / 1\n",
      "      - other segment.............. O |        0 |        0 |   NA / NA\n",
      "\n",
      "Note that (S, M) is a partitioning of A, and (F, L, O) is a partitioning of M.\n",
      "Indentation reflects this.\n",
      "\n",
      "Details for group M:\n",
      "  o record is mapped.............. M1 |   127012 |    63640 |    2 / 2\n",
      "      - primary alignment......... M2 |   127012 |    63640 |    2 / 2\n",
      "      - secondary alignment....... M3 |        0 |        0 |   NA / NA\n",
      "  o record is unmapped............ M4 |     3258 |     1763 | 1.85 / 2\n",
      "\n",
      "Details for group F:\n",
      "  o record is mapped.............. F1 |    63510 |    63510 |    1 / 1\n",
      "      - primary alignment......... F2 |    63510 |    63510 |    1 / 1\n",
      "      - secondary alignment....... F3 |        0 |        0 |   NA / NA\n",
      "  o record is unmapped............ F4 |     1625 |     1625 |    1 / 1\n",
      "\n",
      "Details for group L:\n",
      "  o record is mapped.............. L1 |    63502 |    63502 |    1 / 1\n",
      "      - primary alignment......... L2 |    63502 |    63502 |    1 / 1\n",
      "      - secondary alignment....... L3 |        0 |        0 |   NA / NA\n",
      "  o record is unmapped............ L4 |     1633 |     1633 |    1 / 1\n"
     ]
    }
   ],
   "source": [
    "library(Rsamtools, quietly = TRUE)\n",
    "asBam('ERR4423464.sam', destination='ERR4423464', overwrite = TRUE)\n",
    "\n",
    "# Esto nos ofrece un resumen de los tipos de alineamientos encontrados:\n",
    "quickBamFlagSummary('ERR4423464.bam')"
   ]
  },
  {
   "cell_type": "markdown",
   "metadata": {},
   "source": [
    "El formato SAM contiene mucha información pero no nos permite una visión panorámica a lo largo del genoma de referencia. Para poder visualizar cómo se distribuyen las secuencias cortas a lo largo del genoma de referencia, necesitamos *amontonarlas*. La función `pileup()` permite contar cuantas veces ha sido *leída* cada posición (es decir, su **cobertura**), además de poder registrar qué nucleótidos diferentes se han encontrado en cada posición y con qué frecuencia cada uno, entre otras cosas. Nota en el código a continuación que podemos elegir la calidad mínima de una base leída para que la contemos en su cobertura"
   ]
  },
  {
   "cell_type": "code",
   "execution_count": 14,
   "metadata": {},
   "outputs": [
    {
     "data": {
      "text/html": [
       "<table>\n",
       "<caption>A data.frame: 6 × 3</caption>\n",
       "<thead>\n",
       "\t<tr><th></th><th scope=col>seqnames</th><th scope=col>pos</th><th scope=col>count</th></tr>\n",
       "\t<tr><th></th><th scope=col>&lt;fct&gt;</th><th scope=col>&lt;int&gt;</th><th scope=col>&lt;int&gt;</th></tr>\n",
       "</thead>\n",
       "<tbody>\n",
       "\t<tr><th scope=row>1</th><td>NC_045512.2</td><td>39</td><td>25</td></tr>\n",
       "\t<tr><th scope=row>2</th><td>NC_045512.2</td><td>40</td><td>32</td></tr>\n",
       "\t<tr><th scope=row>3</th><td>NC_045512.2</td><td>41</td><td>32</td></tr>\n",
       "\t<tr><th scope=row>4</th><td>NC_045512.2</td><td>42</td><td>34</td></tr>\n",
       "\t<tr><th scope=row>5</th><td>NC_045512.2</td><td>43</td><td>34</td></tr>\n",
       "\t<tr><th scope=row>6</th><td>NC_045512.2</td><td>44</td><td>35</td></tr>\n",
       "</tbody>\n",
       "</table>\n"
      ],
      "text/latex": [
       "A data.frame: 6 × 3\n",
       "\\begin{tabular}{r|lll}\n",
       "  & seqnames & pos & count\\\\\n",
       "  & <fct> & <int> & <int>\\\\\n",
       "\\hline\n",
       "\t1 & NC\\_045512.2 & 39 & 25\\\\\n",
       "\t2 & NC\\_045512.2 & 40 & 32\\\\\n",
       "\t3 & NC\\_045512.2 & 41 & 32\\\\\n",
       "\t4 & NC\\_045512.2 & 42 & 34\\\\\n",
       "\t5 & NC\\_045512.2 & 43 & 34\\\\\n",
       "\t6 & NC\\_045512.2 & 44 & 35\\\\\n",
       "\\end{tabular}\n"
      ],
      "text/markdown": [
       "\n",
       "A data.frame: 6 × 3\n",
       "\n",
       "| <!--/--> | seqnames &lt;fct&gt; | pos &lt;int&gt; | count &lt;int&gt; |\n",
       "|---|---|---|---|\n",
       "| 1 | NC_045512.2 | 39 | 25 |\n",
       "| 2 | NC_045512.2 | 40 | 32 |\n",
       "| 3 | NC_045512.2 | 41 | 32 |\n",
       "| 4 | NC_045512.2 | 42 | 34 |\n",
       "| 5 | NC_045512.2 | 43 | 34 |\n",
       "| 6 | NC_045512.2 | 44 | 35 |\n",
       "\n"
      ],
      "text/plain": [
       "  seqnames    pos count\n",
       "1 NC_045512.2 39  25   \n",
       "2 NC_045512.2 40  32   \n",
       "3 NC_045512.2 41  32   \n",
       "4 NC_045512.2 42  34   \n",
       "5 NC_045512.2 43  34   \n",
       "6 NC_045512.2 44  35   "
      ]
     },
     "metadata": {},
     "output_type": "display_data"
    }
   ],
   "source": [
    "cobertura <- pileup('ERR4423464.bam',\n",
    "                    pileupParam = PileupParam(max_depth = 10000,\n",
    "                                              min_base_quality = 13,\n",
    "                                              min_mapq = 13,\n",
    "                                              min_nucleotide_depth = 1,\n",
    "                                              min_minor_allele_depth = 0,\n",
    "                                              distinguish_strands = FALSE,\n",
    "                                              distinguish_nucleotides = FALSE))\n",
    "head(cobertura)"
   ]
  },
  {
   "cell_type": "markdown",
   "metadata": {},
   "source": [
    "Antes de ver cómo varía la cobertura a lo largo del genoma en este experimento de secuenciación, consideremos qué cabe esperar. Hemos usado 100000 pares de secuencias cortas, cuya longitud media estaba alrededor de 165. Aproximadamente esperaríamos unas $100000 \\times 2 \\times 165 = 33000000$ bases secuenciadas. Como el genoma de coronavirus SARS-Cov-2 mide unas 30000 bases, en principio tenemos suficientes secuencias cortas como para cubrir el genoma de referencia $33000000/30000=1100$ veces. En la gráfica que generaremos a continuación la línea roja marcará la cobertura media obtenida (1095.45) y la azul, la mediana."
   ]
  },
  {
   "cell_type": "code",
   "execution_count": 15,
   "metadata": {},
   "outputs": [
    {
     "data": {
      "image/png": "[encoded data removed]",
      "text/plain": [
       "plot without title"
      ]
     },
     "metadata": {
      "image/png": {
       "height": 420,
       "width": 420
      }
     },
     "output_type": "display_data"
    }
   ],
   "source": [
    "# Los dos primeros argumentos de la función plot() son las coordenadas\n",
    "# \n",
    "plot(cobertura$pos, cobertura$count, type = 'l',\n",
    "     xlab = 'Posición', ylab = 'Cobertura')\n",
    "abline(h = mean(cobertura$count),   col = 'red')\n",
    "abline(h = median(cobertura$count), col = 'blue')"
   ]
  },
  {
   "cell_type": "markdown",
   "metadata": {},
   "source": [
    "Si la secuenciación hubiera sido realmente aleatoria, de manera que todas las posiciones tuvieran la misma probabilidad de ser secuenciadas, la cobertura seguiría una distribución de Poisson, donde la media es igual a la varianza. En este caso la varianza (calcúlala con `var(cobertura$count)`), es mucho mayor que la media. ¿A qué se te ocurre que podría deberse el hecho de que algunas posiciones hayan sido secuenciadas tanto más que otras?\n",
    "\n",
    "## Detección de variantes\n",
    "\n",
    "El objetivo de muchos proyectos de secuenciación es detectar y analizar las posiciones (y fragmentos) variables, en los que no todos los individuos secuenciados tienen la misma información genética. Un tipo básico de variación son las mutaciones puntuales o SNPs. Diferenciar las posiciones variables de las que no lo son es un problema de clasificación que puede resultar difícil debido a que las secuencias cortas incluyen errores de secuenciación. \n",
    "\n",
    "Fuera del entorno de R, existen muchos otros programas para detectar variantes. [GATK](https://gatk.broadinstitute.org/hc/en-us), desarrollada por el Broad Institute, es una de las herramientas más populares para la detección de variantes a gran escala. Se distribuye como *software* libre, bajo licencia BSD modificada de 3 cláusulas. Otro programa interesante es [Freebayes](https://github.com/freebayes/freebayes), distribuido bajo licencia MIT.\n",
    "\n",
    "Sin entrar en los detalles del proceso, el ejemplo básico siguiente nos da una idea de los pasos a seguir en R y nos permitirá observar el formato **VCF** de los resultados. Vamos a usar los paquetes [VariantTools](https://bioconductor.org/packages/release/bioc/html/VariantTools.html) y [gmapR](https://bioconductor.org/packages/release/bioc/html/gmapR.html).\n",
    "\n",
    "El primer paso es indexar de nuevo el genoma de referencia. Esta vez no se creará ningún archivo, sinó que el genoma indexado se guardará como una variable u objeto en el espacio de trabajo. Por algún motivo, la función `GmapGenome()` no acepta como *input* directamente el *path* o la dirección del archivo fasta del genoma de referencia. Es necesario usar un objeto de clase `FastaFile`. "
   ]
  },
  {
   "cell_type": "code",
   "execution_count": 16,
   "metadata": {},
   "outputs": [
    {
     "name": "stderr",
     "output_type": "stream",
     "text": [
      "\n",
      "Attaching package: ‘VariantAnnotation’\n",
      "\n",
      "\n",
      "The following object is masked from ‘package:base’:\n",
      "\n",
      "    tabulate\n",
      "\n",
      "\n"
     ]
    }
   ],
   "source": [
    "suppressMessages(library('VariantTools'))\n",
    "suppressMessages(library('gmapR'))\n",
    "\n",
    "# Creamos un objeto 'FastaFile' a partir del archivo data/referencia.fna\n",
    "referencia.fasta  <- rtracklayer::FastaFile(\n",
    "    paste(getwd(), 'data/referencia.fna', sep = '/'))"
   ]
  },
  {
   "cell_type": "code",
   "execution_count": 17,
   "metadata": {},
   "outputs": [],
   "source": [
    "# Aquí se indexa el genoma de referencia.\n",
    "referencia.genoma <- GmapGenome(referencia.fasta, create = TRUE)"
   ]
  },
  {
   "cell_type": "markdown",
   "metadata": {},
   "source": [
    "La función `TallyVariantsParam()` permite ajustar varios parámetros que afectan la sensibilidad y la especificidad del proceso de detección de variantes. Puedes averiguar qué parámetros son esos leyendo la ayuda de la función: `help(TallyVariantsParam)`. Si no especificamos más que el genoma de referencia, aceptamos los valores por defecto."
   ]
  },
  {
   "cell_type": "code",
   "execution_count": 18,
   "metadata": {},
   "outputs": [],
   "source": [
    "parametros <- TallyVariantsParam(referencia.genoma)"
   ]
  },
  {
   "cell_type": "markdown",
   "metadata": {},
   "source": [
    "Normalmente se detectan variantes entre un conjunto de muestras o individuos secuenciados. En este ejercicio estamos usando sólo una muestra, representada por el archivo `ERR4423464.bam`. Aquí, las *variantes* que buscamos son diferencias entre el genoma de referencia y el de la muestra secuenciada. "
   ]
  },
  {
   "cell_type": "code",
   "execution_count": 19,
   "metadata": {},
   "outputs": [
    {
     "data": {
      "text/html": [
       "'VRanges object with 40 ranges and 17 metadata columns'"
      ],
      "text/latex": [
       "'VRanges object with 40 ranges and 17 metadata columns'"
      ],
      "text/markdown": [
       "'VRanges object with 40 ranges and 17 metadata columns'"
      ],
      "text/plain": [
       "[1] \"VRanges object with 40 ranges and 17 metadata columns\""
      ]
     },
     "metadata": {},
     "output_type": "display_data"
    }
   ],
   "source": [
    "preliminar <- callVariants('ERR4423464.bam', parametros)\n",
    "summary(preliminar)"
   ]
  },
  {
   "cell_type": "markdown",
   "metadata": {},
   "source": [
    "Las posiciones variables estan indicadas como *rangos*, pues podrían abarcar más de un nucleótido. Siempre, el primer resultado de detección de variantes es susceptible de contener falsos positivos. El paso siguiente consiste en filtrar los resultados para quedarnos solo con las variantes más probablemente verdaderas."
   ]
  },
  {
   "cell_type": "code",
   "execution_count": 20,
   "metadata": {},
   "outputs": [
    {
     "data": {
      "text/html": [
       "'VRanges object with 34 ranges and 17 metadata columns'"
      ],
      "text/latex": [
       "'VRanges object with 34 ranges and 17 metadata columns'"
      ],
      "text/markdown": [
       "'VRanges object with 34 ranges and 17 metadata columns'"
      ],
      "text/plain": [
       "[1] \"VRanges object with 34 ranges and 17 metadata columns\""
      ]
     },
     "metadata": {},
     "output_type": "display_data"
    }
   ],
   "source": [
    "filtradas  <- postFilterVariants(preliminar)\n",
    "summary(filtradas)"
   ]
  },
  {
   "cell_type": "markdown",
   "metadata": {},
   "source": [
    "¿Cuántas posiciones variables hemos detectado? ¿Consigues extraer e interpretar la información contenida en el objeto `filtradas`? Existen muchas funciones para trabajar con esta clase de objeto, pero aprenderlas no es nuestro objetivo ahora. Tal vez sea más fácil y práctico guardar la información sobre las variantes filtradas en un archivo de texto con formato VCF.\n",
    "\n",
    "El formato VCF necesita los nombres de las muestras (en nuestro caso solo una), que normalmente coinciden con los nombres de los archivos `.bam`. Como esta información no está contenida todavía en el objeto `filtradas`, la introducimos ahora:"
   ]
  },
  {
   "cell_type": "code",
   "execution_count": 21,
   "metadata": {},
   "outputs": [],
   "source": [
    "sampleNames(filtradas) <- 'ERR4423464'"
   ]
  },
  {
   "cell_type": "markdown",
   "metadata": {},
   "source": [
    "Y finalmente creamos el archivo **VCF**:"
   ]
  },
  {
   "cell_type": "code",
   "execution_count": 22,
   "metadata": {},
   "outputs": [],
   "source": [
    "writeVcf(filtradas, filename = 'ERR4423464.vcf')"
   ]
  },
  {
   "cell_type": "markdown",
   "metadata": {},
   "source": [
    "El formato **VCF** está descrito en [este documento](https://www.google.com/url?sa=t&rct=j&q=&esrc=s&source=web&cd=&ved=2ahUKEwicz7ih05zuAhUHExoKHQB-DY8QFjAIegQIARAC&url=https%3A%2F%2Fsamtools.github.io%2Fhts-specs%2FVCFv4.2.pdf&usg=AOvVaw3UrlHdXnBVzm0df9OE90Rm). Al abrir el archivo `ERR4423464.vcf` con un editor de texto, normalmente las líneas más largas que la pantalla acaban ocupando más de una línea, lo que dificulta la identificación del formato. Para poder observar mejor el formato del archivo es recomendable abrirlo, por ejemplo, desde una terminal con el comando:\n",
    "\n",
    "`less -S ERR4423464.vcf`"
   ]
  }
 ],
 "metadata": {
  "kernelspec": {
   "display_name": "R",
   "language": "R",
   "name": "ir"
  },
  "language_info": {
   "codemirror_mode": "r",
   "file_extension": ".r",
   "mimetype": "text/x-r-source",
   "name": "R",
   "pygments_lexer": "r",
   "version": "3.6.3"
  }
 },
 "nbformat": 4,
 "nbformat_minor": 4
}
